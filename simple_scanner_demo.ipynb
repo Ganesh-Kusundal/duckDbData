{
 "cells": [
  {
   "cell_type": "markdown",
   "metadata": {},
   "source": [
    "# Enhanced Breakout Scanner Demo\n",
    "\n",
    "This notebook demonstrates the standalone enhanced breakout scanner that provides:\n",
    "- Date range analysis (multiple trading days)\n",
    "- Breakout detection at 09:50 AM\n",
    "- End-of-day price tracking at 15:15 PM\n",
    "- Price change calculations\n",
    "- Success rate analysis\n",
    "- Performance ranking\n",
    "- Comprehensive table display\n",
    "- CSV export functionality"
   ]
  },
  {
   "cell_type": "code",
   "execution_count": 1,
   "metadata": {},
   "outputs": [
    {
     "name": "stdout",
     "output_type": "stream",
     "text": [
      "Current directory: /Users/apple/Downloads/duckDbData\n",
      "✅ Python path updated\n"
     ]
    }
   ],
   "source": [
    "# Import required libraries\n",
    "import sys\n",
    "import os\n",
    "from pathlib import Path\n",
    "from datetime import date, time, datetime\n",
    "\n",
    "# Add current directory to path for imports\n",
    "current_dir = Path.cwd()\n",
    "if str(current_dir) not in sys.path:\n",
    "    sys.path.insert(0, str(current_dir))\n",
    "\n",
    "print(f\"Current directory: {current_dir}\")\n",
    "print(\"✅ Python path updated\")"
   ]
  },
  {
   "cell_type": "code",
   "execution_count": 2,
   "metadata": {},
   "outputs": [
    {
     "name": "stdout",
     "output_type": "stream",
     "text": [
      "✅ Standalone Enhanced Breakout Scanner imported successfully!\n"
     ]
    }
   ],
   "source": [
    "# Import the standalone enhanced scanner\n",
    "from enhanced_breakout_scanner_standalone import StandaloneEnhancedBreakoutScanner\n",
    "import duckdb\n",
    "\n",
    "print(\"✅ Standalone Enhanced Breakout Scanner imported successfully!\")"
   ]
  },
  {
   "cell_type": "code",
   "execution_count": 3,
   "metadata": {},
   "outputs": [
    {
     "name": "stdout",
     "output_type": "stream",
     "text": [
      "🔗 Connecting to database: data/financial_data.duckdb\n",
      "✅ Database connection established!\n",
      "📊 Database contains 67013633 market data records\n"
     ]
    }
   ],
   "source": [
    "# Connect to the database\n",
    "db_path = \"data/financial_data.duckdb\"\n",
    "print(f\"🔗 Connecting to database: {db_path}\")\n",
    "\n",
    "if os.path.exists(db_path):\n",
    "    conn = duckdb.connect(db_path)\n",
    "    print(\"✅ Database connection established!\")\n",
    "    \n",
    "    # Test database\n",
    "    result = conn.execute(\"SELECT COUNT(*) as total_records FROM market_data\").fetchone()\n",
    "    print(f\"📊 Database contains {result[0]} market data records\")\n",
    "else:\n",
    "    print(f\"❌ Database file not found at {db_path}\")\n",
    "    print(\"💡 Make sure the database file exists before running the scanner\")"
   ]
  },
  {
   "cell_type": "code",
   "execution_count": 4,
   "metadata": {},
   "outputs": [
    {
     "name": "stdout",
     "output_type": "stream",
     "text": [
      "🔧 Initializing Enhanced Breakout Scanner...\n",
      "✅ Enhanced scanner initialized!\n",
      "\n",
      "📋 Scanner Configuration:\n",
      "  obv_lookback_period: 10\n",
      "  obv_threshold: 1.5\n",
      "  consolidation_period: 5\n",
      "  consolidation_range_pct: 8.0\n",
      "  breakout_volume_ratio: 1.5\n",
      "  momentum_period: 3\n",
      "  resistance_break_pct: 0.5\n",
      "  min_price: 50\n",
      "  max_price: 2000\n",
      "  max_results: 50\n",
      "  breakout_cutoff_time: 09:50:00\n",
      "  end_of_day_time: 15:15:00\n"
     ]
    }
   ],
   "source": [
    "# Initialize the enhanced scanner\n",
    "print(\"🔧 Initializing Enhanced Breakout Scanner...\")\n",
    "enhanced_scanner = StandaloneEnhancedBreakoutScanner(conn)\n",
    "print(\"✅ Enhanced scanner initialized!\")\n",
    "\n",
    "# Display scanner configuration\n",
    "print(\"\\n📋 Scanner Configuration:\")\n",
    "for key, value in enhanced_scanner.config.items():\n",
    "    print(f\"  {key}: {value}\")"
   ]
  },
  {
   "cell_type": "code",
   "execution_count": 5,
   "metadata": {},
   "outputs": [
    {
     "name": "stdout",
     "output_type": "stream",
     "text": [
      "📅 Analyzing breakout patterns from 2025-09-01 to 2025-09-05\n",
      "⏰ Breakout detection at 09:50:00\n",
      "🏁 End-of-day analysis at 15:15:00\n",
      "\n",
      "💡 This will analyze breakout patterns detected at 09:50 AM\n",
      "   and track their performance through the trading day until 15:15 PM\n"
     ]
    }
   ],
   "source": [
    "# Define date range for analysis\n",
    "start_date = date(2025, 9, 1)\n",
    "end_date = date(2025, 9, 5)\n",
    "cutoff_time = time(9, 50)\n",
    "end_of_day_time = time(15, 15)\n",
    "\n",
    "print(f\"📅 Analyzing breakout patterns from {start_date} to {end_date}\")\n",
    "print(f\"⏰ Breakout detection at {cutoff_time}\")\n",
    "print(f\"🏁 End-of-day analysis at {end_of_day_time}\")\n",
    "print(\"\\n💡 This will analyze breakout patterns detected at 09:50 AM\")\n",
    "print(\"   and track their performance through the trading day until 15:15 PM\")"
   ]
  },
  {
   "cell_type": "code",
   "execution_count": 6,
   "metadata": {},
   "outputs": [
    {
     "name": "stdout",
     "output_type": "stream",
     "text": [
      "🚀 Running enhanced breakout scanner...\n",
      "This may take a few moments depending on the date range and data volume...\n",
      "🚀 Enhanced Breakout Scanner - Date Range: 2025-09-01 to 2025-09-05\n",
      "⏰ Breakout Detection: 09:50:00, End of Day: 15:15:00\n",
      "📅 Found 5 trading days to analyze\n",
      "📊 Scanning 2025-09-01...\n",
      "   ✅ Found 22 breakout candidates\n",
      "📊 Scanning 2025-09-02...\n",
      "   ✅ Found 27 breakout candidates\n",
      "📊 Scanning 2025-09-03...\n",
      "   ✅ Found 21 breakout candidates\n",
      "📊 Scanning 2025-09-04...\n",
      "   ✅ Found 50 breakout candidates\n",
      "📊 Scanning 2025-09-05...\n",
      "   ✅ Found 50 breakout candidates\n",
      "\n",
      "✅ Enhanced Breakout Analysis Complete!\n",
      "📊 Total breakout opportunities: 170\n",
      "📅 Trading days analyzed: 5\n",
      "\n",
      "✅ Enhanced scanner completed successfully!\n",
      "📊 Found 170 breakout opportunities\n"
     ]
    }
   ],
   "source": [
    "# Run the enhanced scanner\n",
    "print(\"🚀 Running enhanced breakout scanner...\")\n",
    "print(\"This may take a few moments depending on the date range and data volume...\")\n",
    "\n",
    "results = enhanced_scanner.scan_date_range(\n",
    "    start_date=start_date,\n",
    "    end_date=end_date,\n",
    "    cutoff_time=cutoff_time,\n",
    "    end_of_day_time=end_of_day_time,\n",
    "    db_connection=conn\n",
    ")\n",
    "\n",
    "print(\"\\n✅ Enhanced scanner completed successfully!\")\n",
    "print(f\"📊 Found {len(results)} breakout opportunities\")"
   ]
  },
  {
   "cell_type": "code",
   "execution_count": 7,
   "metadata": {},
   "outputs": [
    {
     "name": "stdout",
     "output_type": "stream",
     "text": [
      "📊 Displaying comprehensive results table...\n",
      "\n",
      "📊 Enhanced Breakout Analysis: 2025-09-01 to 2025-09-05\n",
      "================================================================================\n",
      "┌──────────┬──────────┬────────────┬──────────┬────────────┬──────────┬────────────┬──────┬──────────┬──────┬────────────┐\n",
      "│ Symbol   │ Date     │ Breakout   │ EOD      │ Price      │ Breakout │ Volume     │ Rank │ Day      │ Succ │ Perform    │\n",
      "│          │          │ Price      │ Price    │ Change     │ %        │ Ratio      │      │ Range%   │      │ Rank       │\n",
      "├──────────┼──────────┼────────────┼──────────┼────────────┼──────────┼────────────┼──────┼──────────┼──────┼────────────┤\n",
      "│ GMDCLTD  │ 2025-09-05 │ ₹  466.60 │ ₹507.50 │    +8.77% │   0.63% │      1.0x │ 3.18 │   9.18% │ ✅    │     3.18 │\n",
      "│ ABFRL    │ 2025-09-01 │ ₹   77.33 │ ₹ 83.70 │    +8.24% │   0.59% │      1.0x │ 3.01 │   8.69% │ ✅    │     3.01 │\n",
      "│ GMDCLTD  │ 2025-09-01 │ ₹  405.55 │ ₹432.65 │    +6.68% │   0.57% │      1.0x │ 2.53 │   6.85% │ ✅    │     2.53 │\n",
      "│ ASHOKLEY │ 2025-09-04 │ ₹  127.02 │ ₹128.89 │    +1.47% │   4.44% │      1.0x │ 2.52 │   4.56% │ ✅    │     2.52 │\n",
      "│ RTNINDIA │ 2025-09-05 │ ₹   59.14 │ ₹ 62.09 │    +4.99% │   0.57% │      1.0x │ 2.03 │   5.07% │ ✅    │     2.03 │\n",
      "│ APTUS    │ 2025-09-04 │ ₹  331.20 │ ₹334.40 │    +0.97% │   2.51% │      2.0x │ 1.88 │   3.22% │ ✅    │     1.88 │\n",
      "│ GMDCLTD  │ 2025-09-01 │ ₹  419.70 │ ₹432.65 │    +3.09% │   0.51% │      1.7x │ 1.63 │   3.34% │ ✅    │     1.63 │\n",
      "│ POLICYBZ │ 2025-09-04 │ ₹ 1911.40 │ ₹1860.90 │    -2.64% │   3.28% │      1.0x │ 1.61 │   5.96% │ ❌    │     1.61 │\n",
      "│ SAMMAANC │ 2025-09-05 │ ₹  134.66 │ ₹137.62 │    +2.20% │   1.45% │      1.2x │ 1.60 │   2.43% │ ✅    │     1.60 │\n",
      "│ SBILIFE  │ 2025-09-04 │ ₹ 1831.20 │ ₹1788.50 │    -2.33% │   3.21% │      1.0x │ 1.58 │   5.58% │ ❌    │     1.58 │\n",
      "│ GLENMARK │ 2025-09-03 │ ₹ 1940.90 │ ₹2004.50 │    +3.28% │   0.73% │      1.0x │ 1.57 │   3.76% │ ✅    │     1.57 │\n",
      "│ ICICIPRU │ 2025-09-04 │ ₹  620.75 │ ₹608.00 │    -2.05% │   3.10% │      1.0x │ 1.54 │   5.16% │ ❌    │     1.54 │\n",
      "│ ABFRL    │ 2025-09-05 │ ₹   83.31 │ ₹ 86.05 │    +3.29% │   0.55% │      1.0x │ 1.51 │   3.79% │ ✅    │     1.51 │\n",
      "│ CIEINDIA │ 2025-09-02 │ ₹  399.45 │ ₹398.00 │    -0.36% │   2.94% │      1.0x │ 1.48 │   3.43% │ ❌    │     1.48 │\n",
      "│ BLUESTAR │ 2025-09-04 │ ₹ 1984.00 │ ₹1960.80 │    -1.17% │   2.82% │      1.0x │ 1.43 │   3.99% │ ❌    │     1.43 │\n",
      "└──────────┴──────────┴────────────┴──────────┴────────────┴──────────┴────────────┴──────┴──────────┴──────┴────────────┘\n",
      "\n",
      "📈 Summary Statistics:\n",
      "   Total Breakouts: 170\n",
      "   Successful Breakouts: 49\n",
      "   Success Rate: 28.8%\n",
      "   Average Price Change: -0.80%\n"
     ]
    }
   ],
   "source": [
    "# Display comprehensive results table\n",
    "if results:\n",
    "    print(\"📊 Displaying comprehensive results table...\")\n",
    "    enhanced_scanner.display_results_table(\n",
    "        results,\n",
    "        title=f\"Enhanced Breakout Analysis: {start_date} to {end_date}\"\n",
    "    )\n",
    "else:\n",
    "    print(\"❌ No breakout patterns found in the specified date range\")\n",
    "    print(\"💡 Try adjusting the date range or scanner parameters\")"
   ]
  },
  {
   "cell_type": "code",
   "execution_count": 8,
   "metadata": {},
   "outputs": [
    {
     "name": "stdout",
     "output_type": "stream",
     "text": [
      "💾 Results exported to enhanced_breakout_analysis_20250907_103851.csv\n",
      "📊 Exported 170 records\n",
      "\n",
      "💾 Results exported to: enhanced_breakout_analysis_20250907_103851.csv\n",
      "📊 Exported 170 records\n",
      "📁 Full path: /Users/apple/Downloads/duckDbData/enhanced_breakout_analysis_20250907_103851.csv\n"
     ]
    }
   ],
   "source": [
    "# Export results to CSV\n",
    "if results:\n",
    "    timestamp = datetime.now().strftime(\"%Y%m%d_%H%M%S\")\n",
    "    filename = f\"enhanced_breakout_analysis_{timestamp}.csv\"\n",
    "    enhanced_scanner.export_results(results, filename)\n",
    "    print(f\"\\n💾 Results exported to: {filename}\")\n",
    "    print(f\"📊 Exported {len(results)} records\")\n",
    "    \n",
    "    # Show file location\n",
    "    import os\n",
    "    full_path = os.path.abspath(filename)\n",
    "    print(f\"📁 Full path: {full_path}\")\n",
    "else:\n",
    "    print(\"⚠️  No results to export\")"
   ]
  },
  {
   "cell_type": "code",
   "execution_count": 9,
   "metadata": {},
   "outputs": [
    {
     "name": "stdout",
     "output_type": "stream",
     "text": [
      "🔌 Database connection closed\n",
      "\n",
      "🎉 Enhanced Breakout Scanner Demo Complete!\n",
      "\n",
      "💡 Key Features Demonstrated:\n",
      "   ✅ Date range analysis (multiple trading days)\n",
      "   ✅ Breakout detection at 09:50 AM\n",
      "   ✅ End-of-day price tracking at 15:15 PM\n",
      "   ✅ Price change calculations (09:50 to 15:15)\n",
      "   ✅ Success rate analysis\n",
      "   ✅ Performance ranking\n",
      "   ✅ Comprehensive table display\n",
      "   ✅ CSV export functionality\n",
      "\n",
      "📊 The scanner provides complete analysis of breakout patterns\n",
      "   from detection through the entire trading day!\n"
     ]
    }
   ],
   "source": [
    "# Close database connection\n",
    "conn.close()\n",
    "print(\"🔌 Database connection closed\")\n",
    "\n",
    "print(\"\\n🎉 Enhanced Breakout Scanner Demo Complete!\")\n",
    "print(\"\\n💡 Key Features Demonstrated:\")\n",
    "print(\"   ✅ Date range analysis (multiple trading days)\")\n",
    "print(\"   ✅ Breakout detection at 09:50 AM\")\n",
    "print(\"   ✅ End-of-day price tracking at 15:15 PM\")\n",
    "print(\"   ✅ Price change calculations (09:50 to 15:15)\")\n",
    "print(\"   ✅ Success rate analysis\")\n",
    "print(\"   ✅ Performance ranking\")\n",
    "print(\"   ✅ Comprehensive table display\")\n",
    "print(\"   ✅ CSV export functionality\")\n",
    "print(\"\\n📊 The scanner provides complete analysis of breakout patterns\")\n",
    "print(\"   from detection through the entire trading day!\")"
   ]
  }
 ],
 "metadata": {
  "kernelspec": {
   "display_name": "duckdb_infra",
   "language": "python",
   "name": "python3"
  },
  "language_info": {
   "codemirror_mode": {
    "name": "ipython",
    "version": 3
   },
   "file_extension": ".py",
   "mimetype": "text/x-python",
   "name": "python",
   "nbconvert_exporter": "python",
   "pygments_lexer": "ipython3",
   "version": "3.11.13"
  }
 },
 "nbformat": 4,
 "nbformat_minor": 5
}
