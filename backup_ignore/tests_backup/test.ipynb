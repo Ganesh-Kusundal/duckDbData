{
 "cells": [
  {
   "cell_type": "code",
   "execution_count": null,
   "id": "03ac598b",
   "metadata": {},
   "outputs": [],
   "source": [
    "# Test DuckDB Infrastructure Environment\n",
    "import sys\n",
    "print(f\"✅ Python Environment: {sys.executable}\")\n",
    "print(f\"✅ Python Version: {sys.version.split()[0]}\")\n",
    "\n",
    "# Import and test DuckDB infrastructure\n",
    "from duckdb_infra import DuckDBManager, QueryAPI, DataLoader\n",
    "print(\"✅ DuckDB Infrastructure modules imported successfully!\")\n",
    "\n",
    "# Initialize components\n",
    "db_manager = DuckDBManager()\n",
    "query_api = QueryAPI(db_manager)\n",
    "data_loader = DataLoader(db_manager)\n",
    "\n",
    "print(\"✅ All components initialized successfully!\")\n",
    "print()\n",
    "print(\"🎯 Ready to work with DuckDB Financial Data Infrastructure!\")\n",
    "print(\"📊 Available symbols:\", len(db_manager.get_available_symbols()))\n",
    "\n",
    "# Test a simple query\n",
    "symbols = db_manager.get_available_symbols()\n",
    "print(f\"📈 Sample symbols: {symbols[:5] if symbols else 'No symbols loaded yet'}\")\n"
   ]
  }
 ],
 "metadata": {
  "language_info": {
   "name": "python"
  }
 },
 "nbformat": 4,
 "nbformat_minor": 5
}
