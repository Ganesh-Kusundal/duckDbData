{
 "cells": [
  {
   "cell_type": "markdown",
   "metadata": {},
   "source": [
    "# 🎯 CRP Scanner Demo Notebook\n",
    "\n",
    "This notebook demonstrates the CRP (Close, Range, Pattern) Scanner for intraday stock selection.\n",
    "\n",
    "## What is CRP?\n",
    "- **C**lose: Stocks closing near their daily high or low\n",
    "- **R**ange: Trading ranges that are narrow/tight\n",
    "- **P**attern: Combines volume, momentum, and technical indicators\n",
    "\n",
    "## Features\n",
    "- Date range analysis with end-of-day tracking\n",
    "- Probability scoring system (0-100)\n",
    "- Professional table display\n",
    "- CSV export functionality\n",
    "- Performance metrics and success rate analysis"
   ]
  },
  {
   "cell_type": "code",
   "execution_count": 1,
   "metadata": {},
   "outputs": [
    {
     "name": "stderr",
     "output_type": "stream",
     "text": [
      "INFO:src.infrastructure.config.settings:Database file 'data/duckdb/bars.duckdb' does not exist yet - will be created on first use\n"
     ]
    },
    {
     "name": "stdout",
     "output_type": "stream",
     "text": [
      "Project root: /Users/apple/Downloads/duckDbData\n",
      "✅ Imports successful!\n"
     ]
    }
   ],
   "source": [
    "# Setup and Imports\n",
    "import sys\n",
    "import os\n",
    "from pathlib import Path\n",
    "from datetime import date, time, timedelta\n",
    "import pandas as pd\n",
    "\n",
    "# Add project root to Python path\n",
    "current_dir = Path.cwd()\n",
    "if current_dir.name == 'scanner':\n",
    "    project_root = current_dir.parent.parent\n",
    "elif current_dir.name == 'notebook':\n",
    "    project_root = current_dir.parent\n",
    "else:\n",
    "    project_root = current_dir\n",
    "\n",
    "sys.path.insert(0, str(project_root))\n",
    "sys.path.insert(0, str(project_root / 'src'))\n",
    "\n",
    "# Import CRP Scanner\n",
    "from src.application.scanners.strategies.crp_scanner import CRPScanner\n",
    "\n",
    "print(f\"Project root: {project_root}\")\n",
    "print(\"✅ Imports successful!\")"
   ]
  },
  {
   "cell_type": "code",
   "execution_count": 2,
   "metadata": {},
   "outputs": [
    {
     "name": "stdout",
     "output_type": "stream",
     "text": [
      "[DEBUG] ScannerFactory.SCANNER_REGISTRY initialized: dict_keys(['breakout', 'enhanced_breakout', 'crp', 'enhanced_crp', 'technical', 'nifty500_filter', 'relative_volume', 'simple_breakout'])\n"
     ]
    },
    {
     "ename": "ImportError",
     "evalue": "attempted relative import beyond top-level package",
     "output_type": "error",
     "traceback": [
      "\u001b[31m---------------------------------------------------------------------------\u001b[39m",
      "\u001b[31mImportError\u001b[39m                               Traceback (most recent call last)",
      "\u001b[36mCell\u001b[39m\u001b[36m \u001b[39m\u001b[32mIn[2]\u001b[39m\u001b[32m, line 3\u001b[39m\n\u001b[32m      1\u001b[39m \u001b[38;5;66;03m# Initialize CRP Scanner\u001b[39;00m\n\u001b[32m      2\u001b[39m \u001b[38;5;66;03m# Initialize CRP Scanner with proper port injection\u001b[39;00m\n\u001b[32m----> \u001b[39m\u001b[32m3\u001b[39m \u001b[38;5;28;01mfrom\u001b[39;00m\u001b[38;5;250m \u001b[39m\u001b[34;01msrc\u001b[39;00m\u001b[34;01m.\u001b[39;00m\u001b[34;01mapp\u001b[39;00m\u001b[34;01m.\u001b[39;00m\u001b[34;01mstartup\u001b[39;00m\u001b[38;5;250m \u001b[39m\u001b[38;5;28;01mimport\u001b[39;00m get_scanner\n\u001b[32m      4\u001b[39m scanner = get_scanner(\u001b[33m'\u001b[39m\u001b[33mcrp\u001b[39m\u001b[33m'\u001b[39m)\n\u001b[32m      6\u001b[39m \u001b[38;5;66;03m# Display configuration\u001b[39;00m\n",
      "\u001b[36mFile \u001b[39m\u001b[32m~/Downloads/duckDbData/src/app/startup.py:13\u001b[39m\n\u001b[32m     11\u001b[39m \u001b[38;5;28;01mfrom\u001b[39;00m\u001b[38;5;250m \u001b[39m\u001b[34;01msrc\u001b[39;00m\u001b[34;01m.\u001b[39;00m\u001b[34;01mapplication\u001b[39;00m\u001b[34;01m.\u001b[39;00m\u001b[34;01minfrastructure\u001b[39;00m\u001b[34;01m.\u001b[39;00m\u001b[34;01mscanner_factory\u001b[39;00m\u001b[38;5;250m \u001b[39m\u001b[38;5;28;01mimport\u001b[39;00m ScannerFactory\n\u001b[32m     12\u001b[39m \u001b[38;5;28;01mfrom\u001b[39;00m\u001b[38;5;250m \u001b[39m\u001b[34;01msrc\u001b[39;00m\u001b[34;01m.\u001b[39;00m\u001b[34;01minfrastructure\u001b[39;00m\u001b[34;01m.\u001b[39;00m\u001b[34;01madapters\u001b[39;00m\u001b[34;01m.\u001b[39;00m\u001b[34;01mevent_bus_adapter\u001b[39;00m\u001b[38;5;250m \u001b[39m\u001b[38;5;28;01mimport\u001b[39;00m EventBusAdapter\n\u001b[32m---> \u001b[39m\u001b[32m13\u001b[39m \u001b[38;5;28;01mfrom\u001b[39;00m\u001b[38;5;250m \u001b[39m\u001b[34;01msrc\u001b[39;00m\u001b[34;01m.\u001b[39;00m\u001b[34;01minfrastructure\u001b[39;00m\u001b[34;01m.\u001b[39;00m\u001b[34;01madapters\u001b[39;00m\u001b[34;01m.\u001b[39;00m\u001b[34;01mduckdb_adapter\u001b[39;00m\u001b[38;5;250m \u001b[39m\u001b[38;5;28;01mimport\u001b[39;00m DuckDBAdapter\n\u001b[32m     14\u001b[39m \u001b[38;5;28;01mfrom\u001b[39;00m\u001b[38;5;250m \u001b[39m\u001b[34;01msrc\u001b[39;00m\u001b[34;01m.\u001b[39;00m\u001b[34;01minfrastructure\u001b[39;00m\u001b[34;01m.\u001b[39;00m\u001b[34;01mrepositories\u001b[39;00m\u001b[34;01m.\u001b[39;00m\u001b[34;01mduckdb_market_repo\u001b[39;00m\u001b[38;5;250m \u001b[39m\u001b[38;5;28;01mimport\u001b[39;00m DuckDBMarketDataRepository\n\u001b[32m     15\u001b[39m \u001b[38;5;28;01mfrom\u001b[39;00m\u001b[38;5;250m \u001b[39m\u001b[34;01msrc\u001b[39;00m\u001b[34;01m.\u001b[39;00m\u001b[34;01mapplication\u001b[39;00m\u001b[34;01m.\u001b[39;00m\u001b[34;01mservices\u001b[39;00m\u001b[34;01m.\u001b[39;00m\u001b[34;01mscanner_service\u001b[39;00m\u001b[38;5;250m \u001b[39m\u001b[38;5;28;01mimport\u001b[39;00m ScannerService\n",
      "\u001b[36mFile \u001b[39m\u001b[32m~/Downloads/duckDbData/src/infrastructure/adapters/duckdb_adapter.py:9\u001b[39m\n\u001b[32m      1\u001b[39m \u001b[33;03m\"\"\"\u001b[39;00m\n\u001b[32m      2\u001b[39m \u001b[33;03mCompatibility shim to expose DuckDBAdapter under src/infrastructure/adapters.\u001b[39;00m\n\u001b[32m      3\u001b[39m \n\u001b[32m   (...)\u001b[39m\u001b[32m      6\u001b[39m \u001b[33;03m`src.infrastructure.adapters.duckdb_adapter.DuckDBAdapter`.\u001b[39;00m\n\u001b[32m      7\u001b[39m \u001b[33;03m\"\"\"\u001b[39;00m\n\u001b[32m----> \u001b[39m\u001b[32m9\u001b[39m \u001b[38;5;28;01mfrom\u001b[39;00m\u001b[38;5;250m \u001b[39m\u001b[34;01mdatabase\u001b[39;00m\u001b[34;01m.\u001b[39;00m\u001b[34;01madapters\u001b[39;00m\u001b[34;01m.\u001b[39;00m\u001b[34;01mduckdb_adapter\u001b[39;00m\u001b[38;5;250m \u001b[39m\u001b[38;5;28;01mimport\u001b[39;00m DuckDBAdapter  \u001b[38;5;66;03m# type: ignore F401\u001b[39;00m\n\u001b[32m     11\u001b[39m __all__ = [\u001b[33m\"\u001b[39m\u001b[33mDuckDBAdapter\u001b[39m\u001b[33m\"\u001b[39m]\n",
      "\u001b[36mFile \u001b[39m\u001b[32m~/Downloads/duckDbData/database/adapters/duckdb_adapter.py:13\u001b[39m\n\u001b[32m     10\u001b[39m \u001b[38;5;28;01mimport\u001b[39;00m\u001b[38;5;250m \u001b[39m\u001b[34;01mjson\u001b[39;00m\n\u001b[32m     11\u001b[39m \u001b[38;5;28;01mfrom\u001b[39;00m\u001b[38;5;250m \u001b[39m\u001b[34;01mduckdb\u001b[39;00m\u001b[38;5;250m \u001b[39m\u001b[38;5;28;01mimport\u001b[39;00m DuckDBPyConnection\n\u001b[32m---> \u001b[39m\u001b[32m13\u001b[39m \u001b[38;5;28;01mfrom\u001b[39;00m\u001b[38;5;250m \u001b[39m\u001b[34;01m.\u001b[39;00m\u001b[34;01m.\u001b[39;00m\u001b[34;01m.\u001b[39;00m\u001b[34;01mdomain\u001b[39;00m\u001b[34;01m.\u001b[39;00m\u001b[34;01mentities\u001b[39;00m\u001b[34;01m.\u001b[39;00m\u001b[34;01mmarket_data\u001b[39;00m\u001b[38;5;250m \u001b[39m\u001b[38;5;28;01mimport\u001b[39;00m MarketData, MarketDataBatch\n\u001b[32m     14\u001b[39m \u001b[38;5;28;01mfrom\u001b[39;00m\u001b[38;5;250m \u001b[39m\u001b[34;01m.\u001b[39;00m\u001b[34;01m.\u001b[39;00m\u001b[34;01m.\u001b[39;00m\u001b[34;01mdomain\u001b[39;00m\u001b[34;01m.\u001b[39;00m\u001b[34;01mentities\u001b[39;00m\u001b[34;01m.\u001b[39;00m\u001b[34;01msymbol\u001b[39;00m\u001b[38;5;250m \u001b[39m\u001b[38;5;28;01mimport\u001b[39;00m Symbol\n\u001b[32m     15\u001b[39m \u001b[38;5;28;01mfrom\u001b[39;00m\u001b[38;5;250m \u001b[39m\u001b[34;01m.\u001b[39;00m\u001b[34;01m.\u001b[39;00m\u001b[34;01mconfig\u001b[39;00m\u001b[34;01m.\u001b[39;00m\u001b[34;01msettings\u001b[39;00m\u001b[38;5;250m \u001b[39m\u001b[38;5;28;01mimport\u001b[39;00m get_settings\n",
      "\u001b[31mImportError\u001b[39m: attempted relative import beyond top-level package"
     ]
    }
   ],
   "source": [
    "# Initialize CRP Scanner\n",
    "# Initialize CRP Scanner with proper port injection\n",
    "from src.app.startup import get_scanner\n",
    "scanner = get_scanner('crp')\n",
    "\n",
    "# Display configuration\n",
    "print(\"🎯 CRP Scanner Configuration:\")\n",
    "print(f\"   Close Threshold: {scanner.config['close_threshold_pct']}%\")\n",
    "print(f\"   Range Threshold: {scanner.config['range_threshold_pct']}%\")\n",
    "print(f\"   Min Volume: {scanner.config['min_volume']:,}\")\n",
    "print(f\"   Price Range: ₹{scanner.config['min_price']} - ₹{scanner.config['max_price']}\")\n",
    "print(f\"   Max Results Per Day: {scanner.config['max_results_per_day']}\")\n",
    "print(f\"   CRP Detection Time: {scanner.config['crp_cutoff_time']}\")\n",
    "print(f\"   End of Day Time: {scanner.config['end_of_day_time']}\")"
   ]
  },
  {
   "cell_type": "code",
   "execution_count": null,
   "metadata": {},
   "outputs": [],
   "source": [
    "# Single Day CRP Scan (for testing)\n",
    "scan_date = date.today() - timedelta(days=1)  # Use yesterday for demo\n",
    "cutoff_time = time(9, 50)\n",
    "\n",
    "print(f\"📅 Single Day Scan: {scan_date}\")\n",
    "print(f\"⏰ Cutoff Time: {cutoff_time}\")\n",
    "\n",
    "# Perform single day scan\n",
    "single_day_results = scanner.scan(scan_date, cutoff_time)\n",
    "\n",
    "if not single_day_results.empty:\n",
    "    print(f\"✅ Found {len(single_day_results)} CRP patterns\")\n",
    "    print(\"\\n📊 Top CRP Results:\")\n",
    "    print(single_day_results.head().to_string(index=False))\n",
    "else:\n",
    "    print(\"⚠️  No CRP patterns found for single day scan\")"
   ]
  },
  {
   "cell_type": "code",
   "execution_count": null,
   "metadata": {},
   "outputs": [],
   "source": [
    "# Date Range CRP Analysis\n",
    "print(\"📈 Performing Date Range CRP Analysis...\")\n",
    "\n",
    "# Define date range (adjust as needed)\n",
    "start_date = scan_date - timedelta(days=4)  # 5-day window\n",
    "end_date = scan_date\n",
    "\n",
    "print(f\"   Date Range: {start_date} to {end_date}\")\n",
    "\n",
    "# Perform date range analysis\n",
    "range_results = scanner.scan_date_range(\n",
    "    start_date=start_date,\n",
    "    end_date=end_date,\n",
    "    cutoff_time=time(9, 50),\n",
    "    end_of_day_time=time(15, 15)\n",
    ")\n",
    "\n",
    "if range_results:\n",
    "    print(f\"✅ Found {len(range_results)} CRP opportunities across {len(set(r['scan_date'] for r in range_results))} days\")\n",
    "else:\n",
    "    print(\"⚠️  No CRP patterns found in the date range\")"
   ]
  },
  {
   "cell_type": "code",
   "execution_count": null,
   "metadata": {},
   "outputs": [],
   "source": [
    "# Display CRP Results Table\n",
    "if range_results:\n",
    "    scanner.display_results_table(range_results, \"CRP Scanner Demo Results\")\n",
    "else:\n",
    "    print(\"⚠️  No results to display\")"
   ]
  },
  {
   "cell_type": "code",
   "execution_count": null,
   "metadata": {},
   "outputs": [],
   "source": [
    "# Export Results to CSV\n",
    "if range_results:\n",
    "    export_filename = f\"crp_scanner_demo_{date.today().strftime('%Y%m%d')}.csv\"\n",
    "    scanner.export_results(range_results, export_filename)\n",
    "    print(f\"💾 Results exported to: {export_filename}\")\n",
    "else:\n",
    "    print(\"⚠️  No results to export\")"
   ]
  },
  {
   "cell_type": "code",
   "execution_count": null,
   "metadata": {},
   "outputs": [],
   "source": [
    "# CRP Pattern Analysis\n",
    "if range_results:\n",
    "    print(\"\\n📊 CRP Pattern Analysis:\")\n",
    "    \n",
    "    # Calculate statistics\n",
    "    total_patterns = len(range_results)\n",
    "    successful_patterns = sum(1 for r in range_results if r.get('crp_successful', False))\n",
    "    success_rate = (successful_patterns / total_patterns * 100) if total_patterns > 0 else 0\n",
    "    avg_probability = sum(r.get('crp_probability_score', 0) for r in range_results) / total_patterns if total_patterns > 0 else 0\n",
    "    avg_price_change = sum(r.get('price_change_pct', 0) for r in range_results) / total_patterns if total_patterns > 0 else 0\n",
    "    \n",
    "    print(f\"   Total CRP Patterns: {total_patterns}\")\n",
    "    print(f\"   Successful Patterns: {successful_patterns}\")\n",
    "    print(f\"   Success Rate: {success_rate:.1f}%\")\n",
    "    print(f\"   Average Probability Score: {avg_probability:.1f}%\")\n",
    "    print(f\"   Average Price Change: {avg_price_change:.2f}%\")\n",
    "    \n",
    "    # Close position distribution\n",
    "    close_positions = {}\n",
    "    for r in range_results:\n",
    "        pos = r.get('close_position', 'Unknown')\n",
    "        close_positions[pos] = close_positions.get(pos, 0) + 1\n",
    "    \n",
    "    print(f\"\\n   Close Position Distribution:\")\n",
    "    for pos, count in close_positions.items():\n",
    "        print(f\"   {pos}: {count} patterns ({count/total_patterns*100:.1f}%)\")\n",
    "else:\n",
    "    print(\"⚠️  No pattern analysis available\")"
   ]
  },
  {
   "cell_type": "markdown",
   "metadata": {},
   "source": [
    "## 🎯 CRP Pattern Explanation\n",
    "\n",
    "### C - Close Position\n",
    "- **Near High**: Stock closed within 2% of its daily high\n",
    "- **Near Low**: Stock closed within 2% of its daily low  \n",
    "- **Mid Range**: Stock closed in the middle of its trading range\n",
    "\n",
    "### R - Range Tightness\n",
    "- **Tight Range**: Daily range under 3% (consolidation)\n",
    "- **Volume Confirmation**: Adequate trading volume\n",
    "\n",
    "### P - Pattern Scoring\n",
    "- **Probability Score**: Weighted combination of all factors (0-100)\n",
    "- **Higher scores** = Better pattern quality\n",
    "- **Success Rate**: Percentage of patterns that moved higher\n",
    "\n",
    "## 💡 Usage Tips\n",
    "- Focus on patterns with **probability scores > 70%**\n",
    "- **Near High** patterns often indicate bullish continuation\n",
    "- **Near Low** patterns may signal potential reversals\n",
    "- Always check **volume confirmation**\n",
    "- Use in conjunction with other technical indicators"
   ]
  },
  {
   "cell_type": "code",
   "execution_count": null,
   "metadata": {},
   "outputs": [],
   "source": [
    "# Show CRP Examples\n",
    "print(\"📚 CRP Pattern Examples:\")\n",
    "print(\"=\" * 50)\n",
    "\n",
    "examples = [\n",
    "    {\n",
    "        'scenario': 'High Probability CRP',\n",
    "        'close_position': 'Near High',\n",
    "        'range_pct': 1.2,\n",
    "        'volume_score': 'High',\n",
    "        'momentum': 'Positive',\n",
    "        'probability': 95.0\n",
    "    },\n",
    "    {\n",
    "        'scenario': 'Medium Probability CRP',\n",
    "        'close_position': 'Near Low',\n",
    "        'range_pct': 2.5,\n",
    "        'volume_score': 'Medium',\n",
    "        'momentum': 'Neutral',\n",
    "        'probability': 75.0\n",
    "    },\n",
    "    {\n",
    "        'scenario': 'Low Probability CRP',\n",
    "        'close_position': 'Mid Range',\n",
    "        'range_pct': 4.8,\n",
    "        'volume_score': 'Low',\n",
    "        'momentum': 'Negative',\n",
    "        'probability': 45.0\n",
    "    }\n",
    "]\n",
    "\n",
    "for i, example in enumerate(examples, 1):\n",
    "    print(f\"\\n{i}. {example['scenario']}\")\n",
    "    print(f\"   Close Position: {example['close_position']}\")\n",
    "    print(f\"   Range: {example['range_pct']}%\")\n",
    "    print(f\"   Volume: {example['volume_score']}\")\n",
    "    print(f\"   Momentum: {example['momentum']}\")\n",
    "    print(f\"   CRP Probability: {example['probability']}%\")\n",
    "\n",
    "print(\"\\n🎯 CRP Scanner Demo Complete!\")\n",
    "print(\"💡 Use this scanner to identify high-probability intraday trading opportunities.\")"
   ]
  }
 ],
 "metadata": {
  "kernelspec": {
   "display_name": "duckdb_infra",
   "language": "python",
   "name": "python3"
  },
  "language_info": {
   "codemirror_mode": {
    "name": "ipython",
    "version": 3
   },
   "file_extension": ".py",
   "mimetype": "text/x-python",
   "name": "python",
   "nbconvert_exporter": "python",
   "pygments_lexer": "ipython3",
   "version": "3.11.13"
  }
 },
 "nbformat": 4,
 "nbformat_minor": 4
}
