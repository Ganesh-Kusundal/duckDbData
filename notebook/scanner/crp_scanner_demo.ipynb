{
 "cells": [
  {
   "cell_type": "markdown",
   "metadata": {},
   "source": [
    "# 🎯 CRP Scanner Demo Notebook\n",
    "\n",
    "This notebook demonstrates the CRP (Close, Range, Pattern) Scanner for intraday stock selection.\n",
    "\n",
    "## What is CRP?\n",
    "- **C**lose: Stocks closing near their daily high or low\n",
    "- **R**ange: Trading ranges that are narrow/tight\n",
    "- **P**attern: Combines volume, momentum, and technical indicators\n",
    "\n",
    "## Features\n",
    "- Date range analysis with end-of-day tracking\n",
    "- Probability scoring system (0-100)\n",
    "- Professional table display\n",
    "- CSV export functionality\n",
    "- Performance metrics and success rate analysis"
   ]
  },
  {
   "cell_type": "code",
   "execution_count": 1,
   "metadata": {},
   "outputs": [
    {
     "name": "stdout",
     "output_type": "stream",
     "text": [
      "Project root: /Users/apple/Downloads/duckDbData\n",
      "✅ Imports successful!\n"
     ]
    }
   ],
   "source": [
    "# Setup and Imports\n",
    "import sys\n",
    "import os\n",
    "from pathlib import Path\n",
    "from datetime import date, time, timedelta\n",
    "import pandas as pd\n",
    "\n",
    "# Add project root to Python path\n",
    "current_dir = Path.cwd()\n",
    "if current_dir.name == 'scanner':\n",
    "    project_root = current_dir.parent.parent\n",
    "elif current_dir.name == 'notebook':\n",
    "    project_root = current_dir.parent\n",
    "else:\n",
    "    project_root = current_dir\n",
    "\n",
    "sys.path.insert(0, str(project_root))\n",
    "sys.path.insert(0, str(project_root / 'src'))\n",
    "\n",
    "# Import CRP Scanner\n",
    "from src.application.scanners.strategies.crp_scanner import CRPScanner\n",
    "\n",
    "print(f\"Project root: {project_root}\")\n",
    "print(\"✅ Imports successful!\")"
   ]
  },
  {
   "cell_type": "code",
   "execution_count": 2,
   "metadata": {},
   "outputs": [
    {
     "name": "stderr",
     "output_type": "stream",
     "text": [
      "INFO:src.infrastructure.core.database:Initialized DuckDB manager with database: data/financial_data.duckdb\n"
     ]
    },
    {
     "name": "stdout",
     "output_type": "stream",
     "text": [
      "🎯 CRP Scanner Configuration:\n",
      "   Close Threshold: 2.0%\n",
      "   Range Threshold: 3.0%\n",
      "   Min Volume: 50,000\n",
      "   Price Range: ₹50 - ₹2000\n",
      "   Max Results Per Day: 3\n",
      "   CRP Detection Time: 09:50:00\n",
      "   End of Day Time: 15:15:00\n"
     ]
    }
   ],
   "source": [
    "# Initialize CRP Scanner\n",
    "scanner = CRPScanner()\n",
    "\n",
    "# Display configuration\n",
    "print(\"🎯 CRP Scanner Configuration:\")\n",
    "print(f\"   Close Threshold: {scanner.config['close_threshold_pct']}%\")\n",
    "print(f\"   Range Threshold: {scanner.config['range_threshold_pct']}%\")\n",
    "print(f\"   Min Volume: {scanner.config['min_volume']:,}\")\n",
    "print(f\"   Price Range: ₹{scanner.config['min_price']} - ₹{scanner.config['max_price']}\")\n",
    "print(f\"   Max Results Per Day: {scanner.config['max_results_per_day']}\")\n",
    "print(f\"   CRP Detection Time: {scanner.config['crp_cutoff_time']}\")\n",
    "print(f\"   End of Day Time: {scanner.config['end_of_day_time']}\")"
   ]
  },
  {
   "cell_type": "code",
   "execution_count": 3,
   "metadata": {},
   "outputs": [
    {
     "name": "stdout",
     "output_type": "stream",
     "text": [
      "📅 Single Day Scan: 2025-09-06\n",
      "⏰ Cutoff Time: 09:50:00\n",
      "⚠️  Single-day scan mode (use scan_date_range() for full functionality)\n"
     ]
    },
    {
     "name": "stderr",
     "output_type": "stream",
     "text": [
      "INFO:src.infrastructure.utils.retry:Starting call to 'src.application.scanners.base_scanner.BaseScanner._execute_query', this is the 1st time calling it.\n"
     ]
    },
    {
     "name": "stdout",
     "output_type": "stream",
     "text": [
      "📊 Analyzing 487 symbols for CRP patterns...\n",
      "DEBUG RETRY_DB DECORATOR APPLIED: _execute_query called with 3 args\n",
      "DEBUG RETRY_DB INNER: func=_execute_query, args_count=3\n",
      "\u001b[2m2025-09-07 18:21:45\u001b[0m [\u001b[31m\u001b[1merror    \u001b[0m] \u001b[1mScanner query execution failed\u001b[0m \u001b[36mextra\u001b[0m=\u001b[35m{'error_type': 'ScannerError', 'error_message': 'Query execution failed in scanner enhanced_crp: IO Error: Cannot open file \"/Users/apple/Downloads/duckDbData/notebook/scanner/data/financial_data.duckdb\": No such file or directory', 'symbol': None, 'context': {'scanner_name': 'enhanced_crp', 'query': '\\n        WITH current_data AS (\\n            SELECT\\n                symbol,\\n                close as ...', 'params_count': 15}, 'timestamp': '2025-09-07T18:21:45.405108'}\u001b[0m\n",
      "❌ Error in CRP scanning: Query execution failed in scanner enhanced_crp: IO Error: Cannot open file \"/Users/apple/Downloads/duckDbData/notebook/scanner/data/financial_data.duckdb\": No such file or directory\n",
      "⚠️  No CRP patterns found for single day scan\n"
     ]
    },
    {
     "name": "stderr",
     "output_type": "stream",
     "text": [
      "Traceback (most recent call last):\n",
      "  File \"/Users/apple/Downloads/duckDbData/src/infrastructure/core/database.py\", line 68, in connect\n",
      "    self.connection = duckdb.connect(self.db_path)\n",
      "                      ^^^^^^^^^^^^^^^^^^^^^^^^^^^^\n",
      "duckdb.duckdb.IOException: IO Error: Cannot open file \"/Users/apple/Downloads/duckDbData/notebook/scanner/data/financial_data.duckdb\": No such file or directory\n",
      "\n",
      "During handling of the above exception, another exception occurred:\n",
      "\n",
      "Traceback (most recent call last):\n",
      "  File \"/Users/apple/Downloads/duckDbData/src/application/scanners/base_scanner.py\", line 378, in _execute_query\n",
      "    return self.db_manager.execute_custom_query(query, params)\n",
      "           ^^^^^^^^^^^^^^^^^^^^^^^^^^^^^^^^^^^^^^^^^^^^^^^^^^^\n",
      "  File \"/Users/apple/Downloads/duckDbData/src/infrastructure/core/database.py\", line 430, in execute_custom_query\n",
      "    conn = self.connect()\n",
      "           ^^^^^^^^^^^^^^\n",
      "  File \"/Users/apple/Downloads/duckDbData/src/infrastructure/core/database.py\", line 75, in connect\n",
      "    raise e\n",
      "  File \"/Users/apple/Downloads/duckDbData/src/infrastructure/core/database.py\", line 57, in connect\n",
      "    self.connection = duckdb.connect(self.db_path)\n",
      "                      ^^^^^^^^^^^^^^^^^^^^^^^^^^^^\n",
      "duckdb.duckdb.IOException: IO Error: Cannot open file \"/Users/apple/Downloads/duckDbData/notebook/scanner/data/financial_data.duckdb\": No such file or directory\n",
      "\n",
      "During handling of the above exception, another exception occurred:\n",
      "\n",
      "Traceback (most recent call last):\n",
      "  File \"/Users/apple/Downloads/duckDbData/src/application/scanners/strategies/crp_scanner.py\", line 253, in scan\n",
      "    result = self._execute_query(crp_query, params)\n",
      "             ^^^^^^^^^^^^^^^^^^^^^^^^^^^^^^^^^^^^^^\n",
      "  File \"/Users/apple/Downloads/duckDbData/src/infrastructure/utils/retry.py\", line 196, in wrapper\n",
      "    return tenacity_retry(inner_wrapper)(*args, **kwargs)\n",
      "           ^^^^^^^^^^^^^^^^^^^^^^^^^^^^^^^^^^^^^^^^^^^^^^\n",
      "  File \"/Users/apple/miniforge/envs/duckdb_infra/lib/python3.11/site-packages/tenacity/__init__.py\", line 336, in wrapped_f\n",
      "    return copy(f, *args, **kw)\n",
      "           ^^^^^^^^^^^^^^^^^^^^\n",
      "  File \"/Users/apple/miniforge/envs/duckdb_infra/lib/python3.11/site-packages/tenacity/__init__.py\", line 475, in __call__\n",
      "    do = self.iter(retry_state=retry_state)\n",
      "         ^^^^^^^^^^^^^^^^^^^^^^^^^^^^^^^^^^\n",
      "  File \"/Users/apple/miniforge/envs/duckdb_infra/lib/python3.11/site-packages/tenacity/__init__.py\", line 376, in iter\n",
      "    result = action(retry_state)\n",
      "             ^^^^^^^^^^^^^^^^^^^\n",
      "  File \"/Users/apple/miniforge/envs/duckdb_infra/lib/python3.11/site-packages/tenacity/__init__.py\", line 398, in <lambda>\n",
      "    self._add_action_func(lambda rs: rs.outcome.result())\n",
      "                                     ^^^^^^^^^^^^^^^^^^^\n",
      "  File \"/Users/apple/miniforge/envs/duckdb_infra/lib/python3.11/concurrent/futures/_base.py\", line 449, in result\n",
      "    return self.__get_result()\n",
      "           ^^^^^^^^^^^^^^^^^^^\n",
      "  File \"/Users/apple/miniforge/envs/duckdb_infra/lib/python3.11/concurrent/futures/_base.py\", line 401, in __get_result\n",
      "    raise self._exception\n",
      "  File \"/Users/apple/miniforge/envs/duckdb_infra/lib/python3.11/site-packages/tenacity/__init__.py\", line 478, in __call__\n",
      "    result = fn(*args, **kwargs)\n",
      "             ^^^^^^^^^^^^^^^^^^^\n",
      "  File \"/Users/apple/Downloads/duckDbData/src/infrastructure/utils/retry.py\", line 194, in inner_wrapper\n",
      "    return func(*inner_args, **inner_kwargs)\n",
      "           ^^^^^^^^^^^^^^^^^^^^^^^^^^^^^^^^^\n",
      "  File \"/Users/apple/Downloads/duckDbData/src/application/scanners/base_scanner.py\", line 388, in _execute_query\n",
      "    raise exc\n",
      "src.domain.exceptions.ScannerError: Query execution failed in scanner enhanced_crp: IO Error: Cannot open file \"/Users/apple/Downloads/duckDbData/notebook/scanner/data/financial_data.duckdb\": No such file or directory\n"
     ]
    }
   ],
   "source": [
    "# Single Day CRP Scan (for testing)\n",
    "scan_date = date.today() - timedelta(days=1)  # Use yesterday for demo\n",
    "cutoff_time = time(9, 50)\n",
    "\n",
    "print(f\"📅 Single Day Scan: {scan_date}\")\n",
    "print(f\"⏰ Cutoff Time: {cutoff_time}\")\n",
    "\n",
    "# Perform single day scan\n",
    "single_day_results = scanner.scan(scan_date, cutoff_time)\n",
    "\n",
    "if not single_day_results.empty:\n",
    "    print(f\"✅ Found {len(single_day_results)} CRP patterns\")\n",
    "    print(\"\\n📊 Top CRP Results:\")\n",
    "    print(single_day_results.head().to_string(index=False))\n",
    "else:\n",
    "    print(\"⚠️  No CRP patterns found for single day scan\")"
   ]
  },
  {
   "cell_type": "code",
   "execution_count": 4,
   "metadata": {},
   "outputs": [
    {
     "name": "stdout",
     "output_type": "stream",
     "text": [
      "📈 Performing Date Range CRP Analysis...\n",
      "   Date Range: 2025-09-02 to 2025-09-06\n",
      "🎯 Enhanced CRP Scanner - Date Range: 2025-09-02 to 2025-09-06\n",
      "⏰ CRP Detection: 09:50:00, End of Day: 15:15:00\n",
      "🎯 Selecting Top 3 Stocks Per Day with Highest Probability\n",
      "📅 Found 4 trading days to analyze\n",
      "📊 Scanning 2025-09-02...\n",
      "❌ Error in single day CRP scan: IO Error: Cannot open file \"/Users/apple/Downloads/duckDbData/notebook/scanner/data/financial_data.duckdb\": No such file or directory\n",
      "📊 Scanning 2025-09-03...\n",
      "❌ Error in single day CRP scan: IO Error: Cannot open file \"/Users/apple/Downloads/duckDbData/notebook/scanner/data/financial_data.duckdb\": No such file or directory\n",
      "📊 Scanning 2025-09-04...\n",
      "❌ Error in single day CRP scan: IO Error: Cannot open file \"/Users/apple/Downloads/duckDbData/notebook/scanner/data/financial_data.duckdb\": No such file or directory\n",
      "📊 Scanning 2025-09-05...\n",
      "❌ Error in single day CRP scan: IO Error: Cannot open file \"/Users/apple/Downloads/duckDbData/notebook/scanner/data/financial_data.duckdb\": No such file or directory\n",
      "❌ No CRP patterns found across the date range\n",
      "⚠️  No CRP patterns found in the date range\n"
     ]
    }
   ],
   "source": [
    "# Date Range CRP Analysis\n",
    "print(\"📈 Performing Date Range CRP Analysis...\")\n",
    "\n",
    "# Define date range (adjust as needed)\n",
    "start_date = scan_date - timedelta(days=4)  # 5-day window\n",
    "end_date = scan_date\n",
    "\n",
    "print(f\"   Date Range: {start_date} to {end_date}\")\n",
    "\n",
    "# Perform date range analysis\n",
    "range_results = scanner.scan_date_range(\n",
    "    start_date=start_date,\n",
    "    end_date=end_date,\n",
    "    cutoff_time=time(9, 50),\n",
    "    end_of_day_time=time(15, 15)\n",
    ")\n",
    "\n",
    "if range_results:\n",
    "    print(f\"✅ Found {len(range_results)} CRP opportunities across {len(set(r['scan_date'] for r in range_results))} days\")\n",
    "else:\n",
    "    print(\"⚠️  No CRP patterns found in the date range\")"
   ]
  },
  {
   "cell_type": "code",
   "execution_count": 5,
   "metadata": {},
   "outputs": [
    {
     "name": "stdout",
     "output_type": "stream",
     "text": [
      "⚠️  No results to display\n"
     ]
    }
   ],
   "source": [
    "# Display CRP Results Table\n",
    "if range_results:\n",
    "    scanner.display_results_table(range_results, \"CRP Scanner Demo Results\")\n",
    "else:\n",
    "    print(\"⚠️  No results to display\")"
   ]
  },
  {
   "cell_type": "code",
   "execution_count": 6,
   "metadata": {},
   "outputs": [
    {
     "name": "stdout",
     "output_type": "stream",
     "text": [
      "⚠️  No results to export\n"
     ]
    }
   ],
   "source": [
    "# Export Results to CSV\n",
    "if range_results:\n",
    "    export_filename = f\"crp_scanner_demo_{date.today().strftime('%Y%m%d')}.csv\"\n",
    "    scanner.export_results(range_results, export_filename)\n",
    "    print(f\"💾 Results exported to: {export_filename}\")\n",
    "else:\n",
    "    print(\"⚠️  No results to export\")"
   ]
  },
  {
   "cell_type": "code",
   "execution_count": 7,
   "metadata": {},
   "outputs": [
    {
     "name": "stdout",
     "output_type": "stream",
     "text": [
      "⚠️  No pattern analysis available\n"
     ]
    }
   ],
   "source": [
    "# CRP Pattern Analysis\n",
    "if range_results:\n",
    "    print(\"\\n📊 CRP Pattern Analysis:\")\n",
    "    \n",
    "    # Calculate statistics\n",
    "    total_patterns = len(range_results)\n",
    "    successful_patterns = sum(1 for r in range_results if r.get('crp_successful', False))\n",
    "    success_rate = (successful_patterns / total_patterns * 100) if total_patterns > 0 else 0\n",
    "    avg_probability = sum(r.get('crp_probability_score', 0) for r in range_results) / total_patterns if total_patterns > 0 else 0\n",
    "    avg_price_change = sum(r.get('price_change_pct', 0) for r in range_results) / total_patterns if total_patterns > 0 else 0\n",
    "    \n",
    "    print(f\"   Total CRP Patterns: {total_patterns}\")\n",
    "    print(f\"   Successful Patterns: {successful_patterns}\")\n",
    "    print(f\"   Success Rate: {success_rate:.1f}%\")\n",
    "    print(f\"   Average Probability Score: {avg_probability:.1f}%\")\n",
    "    print(f\"   Average Price Change: {avg_price_change:.2f}%\")\n",
    "    \n",
    "    # Close position distribution\n",
    "    close_positions = {}\n",
    "    for r in range_results:\n",
    "        pos = r.get('close_position', 'Unknown')\n",
    "        close_positions[pos] = close_positions.get(pos, 0) + 1\n",
    "    \n",
    "    print(f\"\\n   Close Position Distribution:\")\n",
    "    for pos, count in close_positions.items():\n",
    "        print(f\"   {pos}: {count} patterns ({count/total_patterns*100:.1f}%)\")\n",
    "else:\n",
    "    print(\"⚠️  No pattern analysis available\")"
   ]
  },
  {
   "cell_type": "markdown",
   "metadata": {},
   "source": [
    "## 🎯 CRP Pattern Explanation\n",
    "\n",
    "### C - Close Position\n",
    "- **Near High**: Stock closed within 2% of its daily high\n",
    "- **Near Low**: Stock closed within 2% of its daily low  \n",
    "- **Mid Range**: Stock closed in the middle of its trading range\n",
    "\n",
    "### R - Range Tightness\n",
    "- **Tight Range**: Daily range under 3% (consolidation)\n",
    "- **Volume Confirmation**: Adequate trading volume\n",
    "\n",
    "### P - Pattern Scoring\n",
    "- **Probability Score**: Weighted combination of all factors (0-100)\n",
    "- **Higher scores** = Better pattern quality\n",
    "- **Success Rate**: Percentage of patterns that moved higher\n",
    "\n",
    "## 💡 Usage Tips\n",
    "- Focus on patterns with **probability scores > 70%**\n",
    "- **Near High** patterns often indicate bullish continuation\n",
    "- **Near Low** patterns may signal potential reversals\n",
    "- Always check **volume confirmation**\n",
    "- Use in conjunction with other technical indicators"
   ]
  },
  {
   "cell_type": "code",
   "execution_count": 8,
   "metadata": {},
   "outputs": [
    {
     "name": "stdout",
     "output_type": "stream",
     "text": [
      "📚 CRP Pattern Examples:\n",
      "==================================================\n",
      "\n",
      "1. High Probability CRP\n",
      "   Close Position: Near High\n",
      "   Range: 1.2%\n",
      "   Volume: High\n",
      "   Momentum: Positive\n",
      "   CRP Probability: 95.0%\n",
      "\n",
      "2. Medium Probability CRP\n",
      "   Close Position: Near Low\n",
      "   Range: 2.5%\n",
      "   Volume: Medium\n",
      "   Momentum: Neutral\n",
      "   CRP Probability: 75.0%\n",
      "\n",
      "3. Low Probability CRP\n",
      "   Close Position: Mid Range\n",
      "   Range: 4.8%\n",
      "   Volume: Low\n",
      "   Momentum: Negative\n",
      "   CRP Probability: 45.0%\n",
      "\n",
      "🎯 CRP Scanner Demo Complete!\n",
      "💡 Use this scanner to identify high-probability intraday trading opportunities.\n"
     ]
    }
   ],
   "source": [
    "# Show CRP Examples\n",
    "print(\"📚 CRP Pattern Examples:\")\n",
    "print(\"=\" * 50)\n",
    "\n",
    "examples = [\n",
    "    {\n",
    "        'scenario': 'High Probability CRP',\n",
    "        'close_position': 'Near High',\n",
    "        'range_pct': 1.2,\n",
    "        'volume_score': 'High',\n",
    "        'momentum': 'Positive',\n",
    "        'probability': 95.0\n",
    "    },\n",
    "    {\n",
    "        'scenario': 'Medium Probability CRP',\n",
    "        'close_position': 'Near Low',\n",
    "        'range_pct': 2.5,\n",
    "        'volume_score': 'Medium',\n",
    "        'momentum': 'Neutral',\n",
    "        'probability': 75.0\n",
    "    },\n",
    "    {\n",
    "        'scenario': 'Low Probability CRP',\n",
    "        'close_position': 'Mid Range',\n",
    "        'range_pct': 4.8,\n",
    "        'volume_score': 'Low',\n",
    "        'momentum': 'Negative',\n",
    "        'probability': 45.0\n",
    "    }\n",
    "]\n",
    "\n",
    "for i, example in enumerate(examples, 1):\n",
    "    print(f\"\\n{i}. {example['scenario']}\")\n",
    "    print(f\"   Close Position: {example['close_position']}\")\n",
    "    print(f\"   Range: {example['range_pct']}%\")\n",
    "    print(f\"   Volume: {example['volume_score']}\")\n",
    "    print(f\"   Momentum: {example['momentum']}\")\n",
    "    print(f\"   CRP Probability: {example['probability']}%\")\n",
    "\n",
    "print(\"\\n🎯 CRP Scanner Demo Complete!\")\n",
    "print(\"💡 Use this scanner to identify high-probability intraday trading opportunities.\")"
   ]
  }
 ],
 "metadata": {
  "kernelspec": {
   "display_name": "duckdb_infra",
   "language": "python",
   "name": "python3"
  },
  "language_info": {
   "codemirror_mode": {
    "name": "ipython",
    "version": 3
   },
   "file_extension": ".py",
   "mimetype": "text/x-python",
   "name": "python",
   "nbconvert_exporter": "python",
   "pygments_lexer": "ipython3",
   "version": "3.11.13"
  }
 },
 "nbformat": 4,
 "nbformat_minor": 4
}
