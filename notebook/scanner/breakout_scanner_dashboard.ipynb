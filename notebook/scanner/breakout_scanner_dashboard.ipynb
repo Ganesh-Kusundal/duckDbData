{
 "cells": [
  {
   "cell_type": "markdown",
   "id": "0080807f",
   "metadata": {},
   "source": [
    "# 🚀 Enhanced Breakout Scanner Dashboard - Top 3 Stocks Per Day\n",
    "\n",
    "Interactive visualization dashboard for breakout scanner performance analysis with plotly grid layout.\n",
    "Shows only the top 3 stocks per day with highest probability scores for focused trading opportunities."
   ]
  },
  {
   "cell_type": "code",
   "execution_count": 1,
   "id": "54a8ca76",
   "metadata": {},
   "outputs": [
    {
     "name": "stderr",
     "output_type": "stream",
     "text": [
      "WARNING:src.infrastructure.logging:Invalid log path detected: /Users/apple/miniforge/envs/duckdb_infra/bin:/Users/apple/miniforge/condabin:/usr/local/bin:/System/Cryptexes/App/usr/bin:/usr/bin:/bin:/usr/sbin:/sbin:/var/run/com.apple.security.cryptexd/codex.system/bootstrap/usr/local/bin:/var/run/com.apple.security.cryptexd/codex.system/bootstrap/usr/bin:/var/run/com.apple.security.cryptexd/codex.system/bootstrap/usr/appleinternal/bin:/opt/homebrew/bin:/Users/apple/.lmstudio/bin. Using fallback path.\n"
     ]
    },
    {
     "name": "stdout",
     "output_type": "stream",
     "text": [
      "✅ Dashboard setup complete with dark mode!\n"
     ]
    }
   ],
   "source": [
    "# Setup and Imports\n",
    "import sys\n",
    "import os\n",
    "from pathlib import Path\n",
    "from datetime import datetime, date, time, timedelta\n",
    "import pandas as pd\n",
    "import numpy as np\n",
    "import plotly.graph_objects as go\n",
    "import plotly.express as px\n",
    "from plotly.subplots import make_subplots\n",
    "import plotly.io as pio\n",
    "\n",
    "# Add project root to Python path\n",
    "current_dir = Path.cwd()\n",
    "if current_dir.name == 'scanner':\n",
    "    project_root = current_dir.parent.parent\n",
    "elif current_dir.name == 'notebook':\n",
    "    project_root = current_dir.parent\n",
    "else:\n",
    "    project_root = current_dir\n",
    "\n",
    "sys.path.insert(0, str(project_root))\n",
    "sys.path.insert(0, str(project_root / 'src'))\n",
    "\n",
    "# Import project modules\n",
    "from src.infrastructure.logging import setup_logging\n",
    "from src.application.scanners.strategies.breakout_scanner import BreakoutScanner\n",
    "from src.infrastructure.core.database import DuckDBManager\n",
    "from src.infrastructure.config.settings import get_settings\n",
    "\n",
    "# Setup\n",
    "setup_logging()\n",
    "\n",
    "# Set up dark mode theme for plots\n",
    "pio.templates.default = \"plotly_dark\"\n",
    "\n",
    "# Custom dark theme configuration\n",
    "dark_template = {\n",
    "    \"layout\": {\n",
    "        \"paper_bgcolor\": \"#1e1e1e\",\n",
    "        \"plot_bgcolor\": \"#1e1e1e\",\n",
    "        \"font\": {\"color\": \"#ffffff\"},\n",
    "        \"xaxis\": {\n",
    "            \"gridcolor\": \"#333333\",\n",
    "            \"linecolor\": \"#666666\",\n",
    "            \"tickcolor\": \"#666666\",\n",
    "            \"tickfont\": {\"color\": \"#ffffff\"}\n",
    "        },\n",
    "        \"yaxis\": {\n",
    "            \"gridcolor\": \"#333333\",\n",
    "            \"linecolor\": \"#666666\",\n",
    "            \"tickcolor\": \"#666666\",\n",
    "            \"tickfont\": {\"color\": \"#ffffff\"}\n",
    "        }\n",
    "    }\n",
    "}\n",
    "\n",
    "print(\"✅ Dashboard setup complete with dark mode!\")"
   ]
  },
  {
   "cell_type": "code",
   "execution_count": 2,
   "id": "431a0096",
   "metadata": {},
   "outputs": [
    {
     "name": "stderr",
     "output_type": "stream",
     "text": [
      "INFO:src.infrastructure.core.database:Initialized DuckDB manager with database: /Users/apple/Downloads/duckDbData/data/financial_data.duckdb\n",
      "INFO:src.infrastructure.core.database:Connected to DuckDB database: /Users/apple/Downloads/duckDbData/data/financial_data.duckdb\n"
     ]
    },
    {
     "name": "stdout",
     "output_type": "stream",
     "text": [
      "🔧 Initializing Breakout Scanner...\n",
      "Database path: /Users/apple/Downloads/duckDbData/data/financial_data.duckdb\n",
      "Database exists: True\n",
      "✅ Database connection established: True\n",
      "Connection type: <class 'duckdb.duckdb.DuckDBPyConnection'>\n",
      "✅ Scanner initialized!\n"
     ]
    }
   ],
   "source": [
    "# Initialize Scanner\n",
    "print(\"🔧 Initializing Breakout Scanner...\")\n",
    "\n",
    "# Initialize database and scanner\n",
    "main_db_path = project_root / \"data\" / \"financial_data.duckdb\"\n",
    "print(f\"Database path: {main_db_path}\")\n",
    "print(f\"Database exists: {main_db_path.exists()}\")\n",
    "\n",
    "db_manager = DuckDBManager(db_path=str(main_db_path))\n",
    "scanner = BreakoutScanner(db_manager=db_manager)\n",
    "\n",
    "# Test database connection\n",
    "try:\n",
    "    connection = db_manager.connect()\n",
    "    print(f\"✅ Database connection established: {connection is not None}\")\n",
    "    print(f\"Connection type: {type(connection)}\")\n",
    "except Exception as e:\n",
    "    print(f\"❌ Database connection failed: {e}\")\n",
    "    import traceback\n",
    "    traceback.print_exc()\n",
    "\n",
    "print(\"✅ Scanner initialized!\")"
   ]
  },
  {
   "cell_type": "code",
   "execution_count": 3,
   "id": "1025cc1a",
   "metadata": {},
   "outputs": [
    {
     "name": "stdout",
     "output_type": "stream",
     "text": [
      "🆕 Running Enhanced Date Range Analysis...\n",
      "📅 Analyzing period: 2025-09-05 to 2025-09-05\n",
      "⏰ Breakout detection: 09:50:00\n",
      "⏰ End-of-day analysis: 15:15:00\n",
      "🔗 Database connection test: True\n",
      "🚀 Enhanced Breakout Scanner - Date Range: 2025-09-05 to 2025-09-05\n",
      "⏰ Breakout Detection: 09:50:00, End of Day: 15:15:00\n",
      "🎯 Selecting Top 3 Stocks Per Day with Highest Probability\n",
      "📅 Found 1 trading days to analyze\n",
      "📊 Scanning 2025-09-05...\n",
      "   ✅ Found 3 breakout candidates\n",
      "\n",
      "✅ Enhanced Breakout Analysis Complete!\n",
      "📊 Total breakout opportunities: 3\n",
      "📅 Trading days analyzed: 1\n",
      "\n",
      "✅ Found 3 enhanced breakout results\n",
      "📊 Sample result keys: ['symbol', 'breakout_price', 'open_price', 'current_high', 'current_low', 'current_volume', 'breakout_above_resistance', 'breakout_pct', 'volume_ratio', 'probability_score', 'scan_date', 'breakout_time', 'eod_price', 'eod_high', 'eod_low', 'eod_volume', 'price_change_pct', 'breakout_successful', 'day_range_pct', 'performance_rank', 'overall_success_rate']\n",
      "💾 Results exported to enhanced_breakout_analysis_20250905_to_20250905.csv\n",
      "📊 Exported 3 records\n",
      "💾 Results exported to: enhanced_breakout_analysis_20250905_to_20250905.csv\n",
      "\n",
      "🎉 Enhanced analysis complete!\n"
     ]
    }
   ],
   "source": [
    "# Run Enhanced Analysis\n",
    "print(\"🆕 Running Enhanced Date Range Analysis...\")\n",
    "\n",
    "# Configure analysis parameters\n",
    "start_date = date(2025, 9, 5)\n",
    "end_date = date(2025, 9, 5)\n",
    "breakout_time = time(9, 50)\n",
    "end_of_day_time = time(15, 15)\n",
    "\n",
    "print(f\"📅 Analyzing period: {start_date} to {end_date}\")\n",
    "print(f\"⏰ Breakout detection: {breakout_time}\")\n",
    "print(f\"⏰ End-of-day analysis: {end_of_day_time}\")\n",
    "\n",
    "# Test database connection before running analysis\n",
    "try:\n",
    "    test_connection = db_manager.connect()\n",
    "    print(f\"🔗 Database connection test: {test_connection is not None}\")\n",
    "except Exception as e:\n",
    "    print(f\"❌ Database connection test failed: {e}\")\n",
    "\n",
    "# Run enhanced analysis\n",
    "try:\n",
    "    enhanced_results = scanner.scan_date_range(\n",
    "        start_date=start_date,\n",
    "        end_date=end_date,\n",
    "        cutoff_time=breakout_time,\n",
    "        end_of_day_time=end_of_day_time\n",
    "    )\n",
    "    \n",
    "    if enhanced_results:\n",
    "        print(f\"\\n✅ Found {len(enhanced_results)} enhanced breakout results\")\n",
    "        \n",
    "        # Show sample results\n",
    "        if len(enhanced_results) > 0:\n",
    "            sample = enhanced_results[0]\n",
    "            print(f\"📊 Sample result keys: {list(sample.keys())}\")\n",
    "        \n",
    "        # Export to CSV\n",
    "        csv_filename = f\"enhanced_breakout_analysis_{start_date.strftime('%Y%m%d')}_to_{end_date.strftime('%Y%m%d')}.csv\"\n",
    "        scanner.export_results(enhanced_results, csv_filename)\n",
    "        print(f\"💾 Results exported to: {csv_filename}\")\n",
    "    else:\n",
    "        print(\"⚠️ No enhanced results found\")\n",
    "        \n",
    "except Exception as e:\n",
    "    print(f\"❌ Enhanced analysis failed: {e}\")\n",
    "    import traceback\n",
    "    traceback.print_exc()\n",
    "\n",
    "print(\"\\n🎉 Enhanced analysis complete!\")"
   ]
  },
  {
   "cell_type": "markdown",
   "id": "4fb908bc",
   "metadata": {},
   "source": [
    "# 📊 Performance Dashboard\n",
    "\n",
    "Interactive 2x3 grid visualization of breakout scanner performance."
   ]
  },
  {
   "cell_type": "code",
   "execution_count": 4,
   "id": "f33d6c13",
   "metadata": {},
   "outputs": [
    {
     "name": "stdout",
     "output_type": "stream",
     "text": [
      "📊 Creating Performance Dashboard...\n",
      "📈 Analyzing 3 breakout opportunities...\n"
     ]
    },
    {
     "data": {
      "application/vnd.plotly.v1+json": {
       "config": {
        "plotlyServerURL": "https://plot.ly"
       },
       "data": [
        {
         "cells": {
          "align": "left",
          "fill": {
           "color": "#1e1e1e"
          },
          "font": {
           "color": "white",
           "size": 11
          },
          "values": [
           [
            "Total Breakouts",
            "Successful Breakouts",
            "Success Rate",
            "Avg Price Change",
            "High Performers"
           ],
           [
            3,
            2,
            "66.7%",
            "0.40%",
            1
           ]
          ]
         },
         "domain": {
          "x": [
           0,
           0.3
          ],
          "y": [
           0.56,
           1
          ]
         },
         "header": {
          "align": "left",
          "fill": {
           "color": "#2E4F7F"
          },
          "font": {
           "color": "white",
           "size": 12
          },
          "values": [
           "<b>Performance Metrics</b>",
           "<b>Values</b>"
          ]
         },
         "type": "table"
        },
        {
         "marker": {
          "color": "green"
         },
         "name": "Successful",
         "text": [
          2
         ],
         "textposition": "auto",
         "type": "bar",
         "x": [
          "2025-09-05"
         ],
         "xaxis": "x",
         "y": [
          2
         ],
         "yaxis": "y"
        },
        {
         "marker": {
          "color": "red"
         },
         "name": "Unsuccessful",
         "text": [
          1
         ],
         "textposition": "auto",
         "type": "bar",
         "x": [
          "2025-09-05"
         ],
         "xaxis": "x",
         "y": [
          1
         ],
         "yaxis": "y"
        },
        {
         "domain": {
          "x": [
           0.7,
           1
          ],
          "y": [
           0.56,
           1
          ]
         },
         "labels": [
          "Successful",
          "Unsuccessful"
         ],
         "marker": {
          "colors": [
           "green",
           "red"
          ]
         },
         "textinfo": "label+percent",
         "title": {
          "text": "Breakout Success Rate"
         },
         "type": "pie",
         "values": [
          2,
          1
         ]
        },
        {
         "cells": {
          "align": "left",
          "fill": {
           "color": "#1e1e1e"
          },
          "font": {
           "color": "white",
           "size": 10
          },
          "values": [
           [
            "RTNINDIA",
            "HDFCLIFE",
            "SAMMAANCAP"
           ],
           [
            "-1.22%",
            "+0.22%",
            "+2.20%"
           ],
           [
            "0.46",
            "0.57",
            "0.94"
           ]
          ]
         },
         "domain": {
          "x": [
           0,
           0.3
          ],
          "y": [
           0,
           0.44
          ]
         },
         "header": {
          "align": "left",
          "fill": {
           "color": "#2E8B57"
          },
          "font": {
           "color": "white",
           "size": 11
          },
          "values": [
           "<b>Symbol</b>",
           "<b>Price Change</b>",
           "<b>Rank</b>"
          ]
         },
         "type": "table"
        },
        {
         "marker": {
          "color": "blue"
         },
         "name": "Price Changes",
         "nbinsx": 20,
         "opacity": 0.7,
         "type": "histogram",
         "x": [
          2.2,
          0.22,
          -1.22
         ],
         "xaxis": "x2",
         "yaxis": "y2"
        },
        {
         "marker": {
          "color": [
           "green",
           "green",
           "red"
          ],
          "showscale": false,
          "size": 8
         },
         "mode": "markers",
         "name": "Volume vs Price Change",
         "text": [
          "SAMMAANCAP",
          "HDFCLIFE",
          "RTNINDIA"
         ],
         "type": "scatter",
         "x": [
          1.2147703317798126,
          1,
          1.102487129015211
         ],
         "xaxis": "x3",
         "y": [
          2.2,
          0.22,
          -1.22
         ],
         "yaxis": "y3"
        }
       ],
       "layout": {
        "annotations": [
         {
          "font": {
           "size": 16
          },
          "showarrow": false,
          "text": "Performance Summary",
          "x": 0.15,
          "xanchor": "center",
          "xref": "paper",
          "y": 1,
          "yanchor": "bottom",
          "yref": "paper"
         },
         {
          "font": {
           "size": 16
          },
          "showarrow": false,
          "text": "Daily Performance",
          "x": 0.49999999999999994,
          "xanchor": "center",
          "xref": "paper",
          "y": 1,
          "yanchor": "bottom",
          "yref": "paper"
         },
         {
          "font": {
           "size": 16
          },
          "showarrow": false,
          "text": "Success Distribution",
          "x": 0.85,
          "xanchor": "center",
          "xref": "paper",
          "y": 1,
          "yanchor": "bottom",
          "yref": "paper"
         },
         {
          "font": {
           "size": 16
          },
          "showarrow": false,
          "text": "Top Performers",
          "x": 0.15,
          "xanchor": "center",
          "xref": "paper",
          "y": 0.44,
          "yanchor": "bottom",
          "yref": "paper"
         },
         {
          "font": {
           "size": 16
          },
          "showarrow": false,
          "text": "Price Change Distribution",
          "x": 0.49999999999999994,
          "xanchor": "center",
          "xref": "paper",
          "y": 0.44,
          "yanchor": "bottom",
          "yref": "paper"
         },
         {
          "font": {
           "size": 16
          },
          "showarrow": false,
          "text": "Volume vs Price Change",
          "x": 0.85,
          "xanchor": "center",
          "xref": "paper",
          "y": 0.44,
          "yanchor": "bottom",
          "yref": "paper"
         }
        ],
        "height": 800,
        "paper_bgcolor": "#1e1e1e",
        "plot_bgcolor": "#1e1e1e",
        "showlegend": true,
        "template": {
         "data": {
          "bar": [
           {
            "error_x": {
             "color": "#f2f5fa"
            },
            "error_y": {
             "color": "#f2f5fa"
            },
            "marker": {
             "line": {
              "color": "rgb(17,17,17)",
              "width": 0.5
             },
             "pattern": {
              "fillmode": "overlay",
              "size": 10,
              "solidity": 0.2
             }
            },
            "type": "bar"
           }
          ],
          "barpolar": [
           {
            "marker": {
             "line": {
              "color": "rgb(17,17,17)",
              "width": 0.5
             },
             "pattern": {
              "fillmode": "overlay",
              "size": 10,
              "solidity": 0.2
             }
            },
            "type": "barpolar"
           }
          ],
          "carpet": [
           {
            "aaxis": {
             "endlinecolor": "#A2B1C6",
             "gridcolor": "#506784",
             "linecolor": "#506784",
             "minorgridcolor": "#506784",
             "startlinecolor": "#A2B1C6"
            },
            "baxis": {
             "endlinecolor": "#A2B1C6",
             "gridcolor": "#506784",
             "linecolor": "#506784",
             "minorgridcolor": "#506784",
             "startlinecolor": "#A2B1C6"
            },
            "type": "carpet"
           }
          ],
          "choropleth": [
           {
            "colorbar": {
             "outlinewidth": 0,
             "ticks": ""
            },
            "type": "choropleth"
           }
          ],
          "contour": [
           {
            "colorbar": {
             "outlinewidth": 0,
             "ticks": ""
            },
            "colorscale": [
             [
              0,
              "#0d0887"
             ],
             [
              0.1111111111111111,
              "#46039f"
             ],
             [
              0.2222222222222222,
              "#7201a8"
             ],
             [
              0.3333333333333333,
              "#9c179e"
             ],
             [
              0.4444444444444444,
              "#bd3786"
             ],
             [
              0.5555555555555556,
              "#d8576b"
             ],
             [
              0.6666666666666666,
              "#ed7953"
             ],
             [
              0.7777777777777778,
              "#fb9f3a"
             ],
             [
              0.8888888888888888,
              "#fdca26"
             ],
             [
              1,
              "#f0f921"
             ]
            ],
            "type": "contour"
           }
          ],
          "contourcarpet": [
           {
            "colorbar": {
             "outlinewidth": 0,
             "ticks": ""
            },
            "type": "contourcarpet"
           }
          ],
          "heatmap": [
           {
            "colorbar": {
             "outlinewidth": 0,
             "ticks": ""
            },
            "colorscale": [
             [
              0,
              "#0d0887"
             ],
             [
              0.1111111111111111,
              "#46039f"
             ],
             [
              0.2222222222222222,
              "#7201a8"
             ],
             [
              0.3333333333333333,
              "#9c179e"
             ],
             [
              0.4444444444444444,
              "#bd3786"
             ],
             [
              0.5555555555555556,
              "#d8576b"
             ],
             [
              0.6666666666666666,
              "#ed7953"
             ],
             [
              0.7777777777777778,
              "#fb9f3a"
             ],
             [
              0.8888888888888888,
              "#fdca26"
             ],
             [
              1,
              "#f0f921"
             ]
            ],
            "type": "heatmap"
           }
          ],
          "heatmapgl": [
           {
            "colorbar": {
             "outlinewidth": 0,
             "ticks": ""
            },
            "colorscale": [
             [
              0,
              "#0d0887"
             ],
             [
              0.1111111111111111,
              "#46039f"
             ],
             [
              0.2222222222222222,
              "#7201a8"
             ],
             [
              0.3333333333333333,
              "#9c179e"
             ],
             [
              0.4444444444444444,
              "#bd3786"
             ],
             [
              0.5555555555555556,
              "#d8576b"
             ],
             [
              0.6666666666666666,
              "#ed7953"
             ],
             [
              0.7777777777777778,
              "#fb9f3a"
             ],
             [
              0.8888888888888888,
              "#fdca26"
             ],
             [
              1,
              "#f0f921"
             ]
            ],
            "type": "heatmapgl"
           }
          ],
          "histogram": [
           {
            "marker": {
             "pattern": {
              "fillmode": "overlay",
              "size": 10,
              "solidity": 0.2
             }
            },
            "type": "histogram"
           }
          ],
          "histogram2d": [
           {
            "colorbar": {
             "outlinewidth": 0,
             "ticks": ""
            },
            "colorscale": [
             [
              0,
              "#0d0887"
             ],
             [
              0.1111111111111111,
              "#46039f"
             ],
             [
              0.2222222222222222,
              "#7201a8"
             ],
             [
              0.3333333333333333,
              "#9c179e"
             ],
             [
              0.4444444444444444,
              "#bd3786"
             ],
             [
              0.5555555555555556,
              "#d8576b"
             ],
             [
              0.6666666666666666,
              "#ed7953"
             ],
             [
              0.7777777777777778,
              "#fb9f3a"
             ],
             [
              0.8888888888888888,
              "#fdca26"
             ],
             [
              1,
              "#f0f921"
             ]
            ],
            "type": "histogram2d"
           }
          ],
          "histogram2dcontour": [
           {
            "colorbar": {
             "outlinewidth": 0,
             "ticks": ""
            },
            "colorscale": [
             [
              0,
              "#0d0887"
             ],
             [
              0.1111111111111111,
              "#46039f"
             ],
             [
              0.2222222222222222,
              "#7201a8"
             ],
             [
              0.3333333333333333,
              "#9c179e"
             ],
             [
              0.4444444444444444,
              "#bd3786"
             ],
             [
              0.5555555555555556,
              "#d8576b"
             ],
             [
              0.6666666666666666,
              "#ed7953"
             ],
             [
              0.7777777777777778,
              "#fb9f3a"
             ],
             [
              0.8888888888888888,
              "#fdca26"
             ],
             [
              1,
              "#f0f921"
             ]
            ],
            "type": "histogram2dcontour"
           }
          ],
          "mesh3d": [
           {
            "colorbar": {
             "outlinewidth": 0,
             "ticks": ""
            },
            "type": "mesh3d"
           }
          ],
          "parcoords": [
           {
            "line": {
             "colorbar": {
              "outlinewidth": 0,
              "ticks": ""
             }
            },
            "type": "parcoords"
           }
          ],
          "pie": [
           {
            "automargin": true,
            "type": "pie"
           }
          ],
          "scatter": [
           {
            "marker": {
             "line": {
              "color": "#283442"
             }
            },
            "type": "scatter"
           }
          ],
          "scatter3d": [
           {
            "line": {
             "colorbar": {
              "outlinewidth": 0,
              "ticks": ""
             }
            },
            "marker": {
             "colorbar": {
              "outlinewidth": 0,
              "ticks": ""
             }
            },
            "type": "scatter3d"
           }
          ],
          "scattercarpet": [
           {
            "marker": {
             "colorbar": {
              "outlinewidth": 0,
              "ticks": ""
             }
            },
            "type": "scattercarpet"
           }
          ],
          "scattergeo": [
           {
            "marker": {
             "colorbar": {
              "outlinewidth": 0,
              "ticks": ""
             }
            },
            "type": "scattergeo"
           }
          ],
          "scattergl": [
           {
            "marker": {
             "line": {
              "color": "#283442"
             }
            },
            "type": "scattergl"
           }
          ],
          "scattermapbox": [
           {
            "marker": {
             "colorbar": {
              "outlinewidth": 0,
              "ticks": ""
             }
            },
            "type": "scattermapbox"
           }
          ],
          "scatterpolar": [
           {
            "marker": {
             "colorbar": {
              "outlinewidth": 0,
              "ticks": ""
             }
            },
            "type": "scatterpolar"
           }
          ],
          "scatterpolargl": [
           {
            "marker": {
             "colorbar": {
              "outlinewidth": 0,
              "ticks": ""
             }
            },
            "type": "scatterpolargl"
           }
          ],
          "scatterternary": [
           {
            "marker": {
             "colorbar": {
              "outlinewidth": 0,
              "ticks": ""
             }
            },
            "type": "scatterternary"
           }
          ],
          "surface": [
           {
            "colorbar": {
             "outlinewidth": 0,
             "ticks": ""
            },
            "colorscale": [
             [
              0,
              "#0d0887"
             ],
             [
              0.1111111111111111,
              "#46039f"
             ],
             [
              0.2222222222222222,
              "#7201a8"
             ],
             [
              0.3333333333333333,
              "#9c179e"
             ],
             [
              0.4444444444444444,
              "#bd3786"
             ],
             [
              0.5555555555555556,
              "#d8576b"
             ],
             [
              0.6666666666666666,
              "#ed7953"
             ],
             [
              0.7777777777777778,
              "#fb9f3a"
             ],
             [
              0.8888888888888888,
              "#fdca26"
             ],
             [
              1,
              "#f0f921"
             ]
            ],
            "type": "surface"
           }
          ],
          "table": [
           {
            "cells": {
             "fill": {
              "color": "#506784"
             },
             "line": {
              "color": "rgb(17,17,17)"
             }
            },
            "header": {
             "fill": {
              "color": "#2a3f5f"
             },
             "line": {
              "color": "rgb(17,17,17)"
             }
            },
            "type": "table"
           }
          ]
         },
         "layout": {
          "annotationdefaults": {
           "arrowcolor": "#f2f5fa",
           "arrowhead": 0,
           "arrowwidth": 1
          },
          "autotypenumbers": "strict",
          "coloraxis": {
           "colorbar": {
            "outlinewidth": 0,
            "ticks": ""
           }
          },
          "colorscale": {
           "diverging": [
            [
             0,
             "#8e0152"
            ],
            [
             0.1,
             "#c51b7d"
            ],
            [
             0.2,
             "#de77ae"
            ],
            [
             0.3,
             "#f1b6da"
            ],
            [
             0.4,
             "#fde0ef"
            ],
            [
             0.5,
             "#f7f7f7"
            ],
            [
             0.6,
             "#e6f5d0"
            ],
            [
             0.7,
             "#b8e186"
            ],
            [
             0.8,
             "#7fbc41"
            ],
            [
             0.9,
             "#4d9221"
            ],
            [
             1,
             "#276419"
            ]
           ],
           "sequential": [
            [
             0,
             "#0d0887"
            ],
            [
             0.1111111111111111,
             "#46039f"
            ],
            [
             0.2222222222222222,
             "#7201a8"
            ],
            [
             0.3333333333333333,
             "#9c179e"
            ],
            [
             0.4444444444444444,
             "#bd3786"
            ],
            [
             0.5555555555555556,
             "#d8576b"
            ],
            [
             0.6666666666666666,
             "#ed7953"
            ],
            [
             0.7777777777777778,
             "#fb9f3a"
            ],
            [
             0.8888888888888888,
             "#fdca26"
            ],
            [
             1,
             "#f0f921"
            ]
           ],
           "sequentialminus": [
            [
             0,
             "#0d0887"
            ],
            [
             0.1111111111111111,
             "#46039f"
            ],
            [
             0.2222222222222222,
             "#7201a8"
            ],
            [
             0.3333333333333333,
             "#9c179e"
            ],
            [
             0.4444444444444444,
             "#bd3786"
            ],
            [
             0.5555555555555556,
             "#d8576b"
            ],
            [
             0.6666666666666666,
             "#ed7953"
            ],
            [
             0.7777777777777778,
             "#fb9f3a"
            ],
            [
             0.8888888888888888,
             "#fdca26"
            ],
            [
             1,
             "#f0f921"
            ]
           ]
          },
          "colorway": [
           "#636efa",
           "#EF553B",
           "#00cc96",
           "#ab63fa",
           "#FFA15A",
           "#19d3f3",
           "#FF6692",
           "#B6E880",
           "#FF97FF",
           "#FECB52"
          ],
          "font": {
           "color": "#f2f5fa"
          },
          "geo": {
           "bgcolor": "rgb(17,17,17)",
           "lakecolor": "rgb(17,17,17)",
           "landcolor": "rgb(17,17,17)",
           "showlakes": true,
           "showland": true,
           "subunitcolor": "#506784"
          },
          "hoverlabel": {
           "align": "left"
          },
          "hovermode": "closest",
          "mapbox": {
           "style": "dark"
          },
          "paper_bgcolor": "rgb(17,17,17)",
          "plot_bgcolor": "rgb(17,17,17)",
          "polar": {
           "angularaxis": {
            "gridcolor": "#506784",
            "linecolor": "#506784",
            "ticks": ""
           },
           "bgcolor": "rgb(17,17,17)",
           "radialaxis": {
            "gridcolor": "#506784",
            "linecolor": "#506784",
            "ticks": ""
           }
          },
          "scene": {
           "xaxis": {
            "backgroundcolor": "rgb(17,17,17)",
            "gridcolor": "#506784",
            "gridwidth": 2,
            "linecolor": "#506784",
            "showbackground": true,
            "ticks": "",
            "zerolinecolor": "#C8D4E3"
           },
           "yaxis": {
            "backgroundcolor": "rgb(17,17,17)",
            "gridcolor": "#506784",
            "gridwidth": 2,
            "linecolor": "#506784",
            "showbackground": true,
            "ticks": "",
            "zerolinecolor": "#C8D4E3"
           },
           "zaxis": {
            "backgroundcolor": "rgb(17,17,17)",
            "gridcolor": "#506784",
            "gridwidth": 2,
            "linecolor": "#506784",
            "showbackground": true,
            "ticks": "",
            "zerolinecolor": "#C8D4E3"
           }
          },
          "shapedefaults": {
           "line": {
            "color": "#f2f5fa"
           }
          },
          "sliderdefaults": {
           "bgcolor": "#C8D4E3",
           "bordercolor": "rgb(17,17,17)",
           "borderwidth": 1,
           "tickwidth": 0
          },
          "ternary": {
           "aaxis": {
            "gridcolor": "#506784",
            "linecolor": "#506784",
            "ticks": ""
           },
           "baxis": {
            "gridcolor": "#506784",
            "linecolor": "#506784",
            "ticks": ""
           },
           "bgcolor": "rgb(17,17,17)",
           "caxis": {
            "gridcolor": "#506784",
            "linecolor": "#506784",
            "ticks": ""
           }
          },
          "title": {
           "x": 0.05
          },
          "updatemenudefaults": {
           "bgcolor": "#506784",
           "borderwidth": 0
          },
          "xaxis": {
           "automargin": true,
           "gridcolor": "#283442",
           "linecolor": "#506784",
           "ticks": "",
           "title": {
            "standoff": 15
           },
           "zerolinecolor": "#283442",
           "zerolinewidth": 2
          },
          "yaxis": {
           "automargin": true,
           "gridcolor": "#283442",
           "linecolor": "#506784",
           "ticks": "",
           "title": {
            "standoff": 15
           },
           "zerolinecolor": "#283442",
           "zerolinewidth": 2
          }
         }
        },
        "title": {
         "font": {
          "color": "white",
          "size": 20
         },
         "text": "<b>🚀 Breakout Scanner Performance Dashboard</b>",
         "x": 0.5
        },
        "width": 1200,
        "xaxis": {
         "anchor": "y",
         "domain": [
          0.35,
          0.6499999999999999
         ],
         "gridcolor": "#333333",
         "linecolor": "#666666",
         "tickfont": {
          "color": "white"
         },
         "title": {
          "font": {
           "color": "white"
          },
          "text": "Date"
         }
        },
        "xaxis2": {
         "anchor": "y2",
         "domain": [
          0.35,
          0.6499999999999999
         ],
         "gridcolor": "#333333",
         "linecolor": "#666666",
         "tickfont": {
          "color": "white"
         },
         "title": {
          "font": {
           "color": "white"
          },
          "text": "Price Change %"
         }
        },
        "xaxis3": {
         "anchor": "y3",
         "domain": [
          0.7,
          1
         ],
         "gridcolor": "#333333",
         "linecolor": "#666666",
         "tickfont": {
          "color": "white"
         },
         "title": {
          "font": {
           "color": "white"
          },
          "text": "Volume Ratio"
         }
        },
        "yaxis": {
         "anchor": "x",
         "domain": [
          0.56,
          1
         ],
         "gridcolor": "#333333",
         "linecolor": "#666666",
         "tickfont": {
          "color": "white"
         },
         "title": {
          "font": {
           "color": "white"
          },
          "text": "Count"
         }
        },
        "yaxis2": {
         "anchor": "x2",
         "domain": [
          0,
          0.44
         ],
         "gridcolor": "#333333",
         "linecolor": "#666666",
         "tickfont": {
          "color": "white"
         },
         "title": {
          "font": {
           "color": "white"
          },
          "text": "Frequency"
         }
        },
        "yaxis3": {
         "anchor": "x3",
         "domain": [
          0,
          0.44
         ],
         "gridcolor": "#333333",
         "linecolor": "#666666",
         "tickfont": {
          "color": "white"
         },
         "title": {
          "font": {
           "color": "white"
          },
          "text": "Price Change %"
         }
        }
       }
      }
     },
     "metadata": {},
     "output_type": "display_data"
    },
    {
     "name": "stdout",
     "output_type": "stream",
     "text": [
      "\n",
      "✅ Performance dashboard created successfully!\n",
      "📊 Analyzed 3 breakout opportunities\n",
      "🎯 Success rate: 66.7%\n",
      "\n",
      "🎉 Performance Dashboard Complete!\n"
     ]
    }
   ],
   "source": [
    "# Performance Dashboard with Plotly 2x3 Grid Layout\n",
    "print(\"📊 Creating Performance Dashboard...\")\n",
    "\n",
    "# Check if we have enhanced results\n",
    "if 'enhanced_results' not in locals() or not enhanced_results:\n",
    "    print(\"❌ No enhanced results available. Please run the Enhanced Analysis cell first.\")\n",
    "else:\n",
    "    print(f\"📈 Analyzing {len(enhanced_results)} breakout opportunities...\")\n",
    "    \n",
    "    # Convert to DataFrame for analysis\n",
    "    df = pd.DataFrame(enhanced_results)\n",
    "    \n",
    "    # Create 2x3 subplot layout\n",
    "    fig = make_subplots(\n",
    "        rows=2, cols=3,\n",
    "        subplot_titles=(\n",
    "            'Performance Summary', 'Daily Performance', 'Success Distribution',\n",
    "            'Top Performers', 'Price Change Distribution', 'Volume vs Price Change'\n",
    "        ),\n",
    "        specs=[\n",
    "            [{'type': 'table'}, {'type': 'bar'}, {'type': 'pie'}],\n",
    "            [{'type': 'table'}, {'type': 'histogram'}, {'type': 'scatter'}]\n",
    "        ],\n",
    "        vertical_spacing=0.12,\n",
    "        horizontal_spacing=0.05\n",
    "    )\n",
    "    \n",
    "    # ===== 1. PERFORMANCE SUMMARY TABLE =====\n",
    "    total_breakouts = len(df)\n",
    "    successful_breakouts = len(df[df['breakout_successful'] == True])\n",
    "    success_rate = (successful_breakouts / total_breakouts * 100) if total_breakouts > 0 else 0\n",
    "    \n",
    "    summary_data = {\n",
    "        'Metric': ['Total Breakouts', 'Successful Breakouts', 'Success Rate', 'Avg Price Change', 'High Performers'],\n",
    "        'Value': [\n",
    "            total_breakouts,\n",
    "            successful_breakouts,\n",
    "            f\"{success_rate:.1f}%\",\n",
    "            f\"{df['price_change_pct'].mean():.2f}%\" if 'price_change_pct' in df.columns else 'N/A',\n",
    "            len(df[df['price_change_pct'] > 2.0]) if 'price_change_pct' in df.columns else 0\n",
    "        ]\n",
    "    }\n",
    "    \n",
    "    fig.add_trace(\n",
    "        go.Table(\n",
    "            header=dict(values=['<b>Performance Metrics</b>', '<b>Values</b>'],\n",
    "                      fill_color='#2E4F7F', align='left', font=dict(size=12, color='white')),\n",
    "            cells=dict(values=[summary_data['Metric'], summary_data['Value']],\n",
    "                     fill_color='#1e1e1e', align='left', font=dict(size=11, color='white'))\n",
    "        ),\n",
    "        row=1, col=1\n",
    "    )\n",
    "    \n",
    "    # ===== 2. DAILY PERFORMANCE BAR CHART =====\n",
    "    if 'scan_date' in df.columns:\n",
    "        try:\n",
    "            # Convert scan_date to datetime if needed\n",
    "            if not pd.api.types.is_datetime64_any_dtype(df['scan_date']):\n",
    "                df['scan_date'] = pd.to_datetime(df['scan_date'])\n",
    "            \n",
    "            daily_stats = df.groupby(df['scan_date'].dt.date).agg({\n",
    "                'symbol': 'count',\n",
    "                'breakout_successful': 'sum'\n",
    "            }).reset_index()\n",
    "            daily_stats.columns = ['date', 'total', 'successful']\n",
    "            \n",
    "            fig.add_trace(\n",
    "                go.Bar(\n",
    "                    x=daily_stats['date'],\n",
    "                    y=daily_stats['successful'],\n",
    "                    name='Successful',\n",
    "                    marker_color='green',\n",
    "                    text=daily_stats['successful'],\n",
    "                    textposition='auto'\n",
    "                ),\n",
    "                row=1, col=2\n",
    "            )\n",
    "            \n",
    "            fig.add_trace(\n",
    "                go.Bar(\n",
    "                    x=daily_stats['date'],\n",
    "                    y=daily_stats['total'] - daily_stats['successful'],\n",
    "                    name='Unsuccessful',\n",
    "                    marker_color='red',\n",
    "                    text=daily_stats['total'] - daily_stats['successful'],\n",
    "                    textposition='auto'\n",
    "                ),\n",
    "                row=1, col=2\n",
    "            )\n",
    "            \n",
    "        except Exception as e:\n",
    "            print(f\"Note: Could not create daily chart: {e}\")\n",
    "    \n",
    "    # ===== 3. SUCCESS DISTRIBUTION PIE CHART =====\n",
    "    success_counts = df['breakout_successful'].value_counts()\n",
    "    labels = ['Successful' if idx else 'Unsuccessful' for idx in success_counts.index]\n",
    "    \n",
    "    fig.add_trace(\n",
    "        go.Pie(\n",
    "            labels=labels,\n",
    "            values=success_counts.values,\n",
    "            marker_colors=['green', 'red'],\n",
    "            textinfo='label+percent',\n",
    "            title='Breakout Success Rate'\n",
    "        ),\n",
    "        row=1, col=3\n",
    "    )\n",
    "    \n",
    "    # ===== 4. TOP PERFORMERS TABLE =====\n",
    "    if 'performance_rank' in df.columns:\n",
    "        top_performers = df.nsmallest(5, 'performance_rank')\n",
    "        table_data = []\n",
    "        \n",
    "        for _, row in top_performers.iterrows():\n",
    "            symbol = row['symbol']\n",
    "            change = f\"{row['price_change_pct']:+.2f}%\" if 'price_change_pct' in row.index else 'N/A'\n",
    "            rank = f\"{row['performance_rank']:.2f}\" if 'performance_rank' in row.index else 'N/A'\n",
    "            table_data.append([symbol, change, rank])\n",
    "        \n",
    "        fig.add_trace(\n",
    "            go.Table(\n",
    "                header=dict(values=['<b>Symbol</b>', '<b>Price Change</b>', '<b>Rank</b>'],\n",
    "                          fill_color='#2E8B57', align='left', font=dict(size=11, color='white')),\n",
    "                cells=dict(values=list(zip(*table_data)) if table_data else [['N/A'], ['N/A'], ['N/A']],\n",
    "                         fill_color='#1e1e1e', align='left', font=dict(size=10, color='white'))\n",
    "            ),\n",
    "            row=2, col=1\n",
    "        )\n",
    "    \n",
    "    # ===== 5. PRICE CHANGE DISTRIBUTION =====\n",
    "    if 'price_change_pct' in df.columns:\n",
    "        fig.add_trace(\n",
    "            go.Histogram(\n",
    "                x=df['price_change_pct'],\n",
    "                nbinsx=20,\n",
    "                marker_color='blue',\n",
    "                opacity=0.7,\n",
    "                name='Price Changes'\n",
    "            ),\n",
    "            row=2, col=2\n",
    "        )\n",
    "    \n",
    "    # ===== 6. VOLUME VS PRICE CHANGE SCATTER =====\n",
    "    if 'volume_ratio' in df.columns and 'price_change_pct' in df.columns:\n",
    "        fig.add_trace(\n",
    "            go.Scatter(\n",
    "                x=df['volume_ratio'],\n",
    "                y=df['price_change_pct'],\n",
    "                mode='markers',\n",
    "                marker=dict(\n",
    "                    size=8,\n",
    "                    color=df['breakout_successful'].map({True: 'green', False: 'red'}),\n",
    "                    showscale=False\n",
    "                ),\n",
    "                name='Volume vs Price Change',\n",
    "                text=df['symbol']\n",
    "            ),\n",
    "            row=2, col=3\n",
    "        )\n",
    "    \n",
    "    # Update layout\n",
    "    fig.update_layout(\n",
    "        height=800,\n",
    "        width=1200,\n",
    "        title_text='<b>🚀 Breakout Scanner Performance Dashboard</b>',\n",
    "        title_x=0.5,\n",
    "        title_font=dict(size=20, color='white'),\n",
    "        showlegend=True,\n",
    "        template='plotly_dark',\n",
    "        paper_bgcolor='#1e1e1e',\n",
    "        plot_bgcolor='#1e1e1e'\n",
    "    )\n",
    "    \n",
    "    # Update subplot titles and axes with dark mode styling\n",
    "    fig.update_xaxes(title_text='Date', row=1, col=2, title_font=dict(color='white'))\n",
    "    fig.update_yaxes(title_text='Count', row=1, col=2, title_font=dict(color='white'))\n",
    "    fig.update_xaxes(title_text='Price Change %', row=2, col=2, title_font=dict(color='white'))\n",
    "    fig.update_yaxes(title_text='Frequency', row=2, col=2, title_font=dict(color='white'))\n",
    "    fig.update_xaxes(title_text='Volume Ratio', row=2, col=3, title_font=dict(color='white'))\n",
    "    fig.update_yaxes(title_text='Price Change %', row=2, col=3, title_font=dict(color='white'))\n",
    "    \n",
    "    # Apply dark mode to all axes\n",
    "    fig.update_xaxes(gridcolor='#333333', linecolor='#666666', tickfont=dict(color='white'))\n",
    "    fig.update_yaxes(gridcolor='#333333', linecolor='#666666', tickfont=dict(color='white'))\n",
    "    \n",
    "    # Show the dashboard\n",
    "    fig.show()\n",
    "    \n",
    "    print(\"\\n✅ Performance dashboard created successfully!\")\n",
    "    print(f\"📊 Analyzed {total_breakouts} breakout opportunities\")\n",
    "    print(f\"🎯 Success rate: {success_rate:.1f}%\")\n",
    "\n",
    "print(\"\\n🎉 Performance Dashboard Complete!\")"
   ]
  },
  {
   "cell_type": "markdown",
   "metadata": {},
   "source": [
    "# 📈 Dashboard Features\n",
    "\n",
    "This dashboard provides:\n",
    "- **Performance Summary**: Key metrics in table format\n",
    "- **Daily Performance**: Success/failure by date\n",
    "- **Success Distribution**: Pie chart of breakout outcomes\n",
    "- **Top Performers**: Best performing stocks\n",
    "- **Price Change Distribution**: Histogram of price movements\n",
    "- **Volume vs Price Change**: Scatter plot showing volume-price relationship\n",
    "\n",
    "All visualizations are interactive and can be zoomed, hovered, and filtered."
   ]
  },
  {
   "cell_type": "code",
   "execution_count": null,
   "id": "e5aa98b9",
   "metadata": {},
   "outputs": [],
   "source": []
  }
 ],
 "metadata": {
  "kernelspec": {
   "display_name": "duckdb_infra",
   "language": "python",
   "name": "python3"
  },
  "language_info": {
   "codemirror_mode": {
    "name": "ipython",
    "version": 3
   },
   "file_extension": ".py",
   "mimetype": "text/x-python",
   "name": "python",
   "nbconvert_exporter": "python",
   "pygments_lexer": "ipython3",
   "version": "3.11.13"
  }
 },
 "nbformat": 4,
 "nbformat_minor": 5
}
