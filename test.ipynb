{
 "cells": [
  {
   "cell_type": "code",
   "execution_count": null,
   "id": "9c4e0675",
   "metadata": {},
   "outputs": [],
   "source": []
  },
  {
   "cell_type": "code",
   "execution_count": 2,
   "id": "f279f3ea",
   "metadata": {},
   "outputs": [
    {
     "name": "stdout",
     "output_type": "stream",
     "text": [
      "        open    high     low   close   volume                 timestamp\n",
      "0     535.70  538.50  534.15  534.55  52695.0 2025-07-15 09:15:00+05:30\n",
      "1     534.10  536.85  532.55  536.30  25170.0 2025-07-15 09:16:00+05:30\n",
      "2     536.60  536.60  535.20  535.35  16264.0 2025-07-15 09:17:00+05:30\n",
      "3     535.70  535.70  533.35  535.00  16127.0 2025-07-15 09:18:00+05:30\n",
      "4     534.90  535.50  533.50  534.10  21235.0 2025-07-15 09:19:00+05:30\n",
      "...      ...     ...     ...     ...      ...                       ...\n",
      "7120  504.65  505.00  504.65  504.70   1797.0 2025-08-08 15:25:00+05:30\n",
      "7121  504.70  504.70  504.35  504.45   3760.0 2025-08-08 15:26:00+05:30\n",
      "7122  504.35  504.90  503.40  504.40  15468.0 2025-08-08 15:27:00+05:30\n",
      "7123  504.00  505.05  504.00  505.05   4171.0 2025-08-08 15:28:00+05:30\n",
      "7124  504.55  505.05  503.45  504.65   2882.0 2025-08-08 15:29:00+05:30\n",
      "\n",
      "[7125 rows x 6 columns]\n"
     ]
    }
   ],
   "source": [
    "from broker.tradehull_broker import get_broker\n",
    "\n",
    "broker = get_broker()\n",
    "\n",
    "data = broker.get_historical_data(tradingsymbol=\"HEG\", timeframe=\"1\", exchange=\"NSE\", start_date=\"2025-07-15\", end_date=\"2025-08-08\")\n",
    "print(data)\n",
    "\n",
    "# data = broker.get_historical_data(tradingsymbol=\"CRUDEOIL 17 SEPT 57000 CALL\", timeframe=\"5\", exchange=\"MCX\")\n",
    "# print(data)"
   ]
  },
  {
   "cell_type": "code",
   "execution_count": 3,
   "id": "049eba30",
   "metadata": {},
   "outputs": [
    {
     "name": "stdout",
     "output_type": "stream",
     "text": [
      "Current LTP for HEG: ₹500.1\n"
     ]
    }
   ],
   "source": [
    "from broker.tradehull_broker import get_broker\n",
    "\n",
    "broker = get_broker()\n",
    "\n",
    "def get_heg_ltp_safe():\n",
    "    try:\n",
    "        # Check if broker is connected\n",
    "        if not broker.is_connected():\n",
    "            print(\"Broker is not connected\")\n",
    "            return None\n",
    "            \n",
    "        # Get quote data with debug mode if needed\n",
    "        quote_data = broker.get_quote_data(\"HEG\", debug=\"NO\")\n",
    "        \n",
    "        if quote_data and 'last_price' in quote_data:\n",
    "            return quote_data['last_price']\n",
    "        else:\n",
    "            print(\"No LTP data available for HEG\")\n",
    "            return None\n",
    "            \n",
    "    except Exception as e:\n",
    "        print(f\"Error getting LTP for HEG: {e}\")\n",
    "        return None\n",
    "\n",
    "# Usage\n",
    "heg_ltp = get_heg_ltp_safe()\n",
    "if heg_ltp:\n",
    "    print(f\"Current LTP for HEG: ₹{heg_ltp}\")"
   ]
  }
 ],
 "metadata": {
  "kernelspec": {
   "display_name": "duckdb_infra",
   "language": "python",
   "name": "python3"
  },
  "language_info": {
   "codemirror_mode": {
    "name": "ipython",
    "version": 3
   },
   "file_extension": ".py",
   "mimetype": "text/x-python",
   "name": "python",
   "nbconvert_exporter": "python",
   "pygments_lexer": "ipython3",
   "version": "3.11.13"
  }
 },
 "nbformat": 4,
 "nbformat_minor": 5
}
